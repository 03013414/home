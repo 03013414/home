{
 "cells": [
  {
   "cell_type": "markdown",
   "metadata": {},
   "source": [
    "# 2 Introduction to Python"
   ]
  },
  {
   "cell_type": "markdown",
   "metadata": {
    "collapsed": true
   },
   "source": [
    "#### Python is a <b style=\"color:red\">living</b> language. Since its introduction by <b style=\"color:blue\">Guido von Rossum in 1990</b>, it has undergone many changes. \n",
    "\n",
    "<p>For the first decade of its life, Python was a little known and little used language. That changed with the arrival of  <b style=\"color:blue\">Python 2.0 in 2000</b>. In addition to incorporating a number of important improvements to the language itself, it marked a shift in the evolutionary path of the language. A large number of people began developing libraries that interfaced seamlessly with Python, and continuing support and development of the <b style=\"color:blue\">Python ecosystem became a community-based activity</b>. \n",
    "\n",
    "<p><b style=\"color:blue\">Python 3.0 was released at the end of 2008</b>. This version of Python cleaned up many of the\n",
    "inconsistencies in the design of the various releases of Python 2 (often referred to as Python 2.x). However, it was <b style=\"color:blue\">not backward compatible</b>. That meant that most programs written for earlier versions of Python could not be run using implementations of Python 3.0.\n",
    "\n",
    "<p><b>We use Python 3 throughout this course.</b>\n",
    "\n",
    "<p>Officeal Web Site: https://www.python.org/</p>\n",
    "<p>The mission of the Python Software Foundation is to promote, protect, and advance the Python programming language, and to support and facilitate the growth of a diverse and international community of Python programmers.\n",
    "<p>Python is powerful... and fast; plays well with others; runs everywhere;  is friendly & easy to learn;  is Open. \n",
    "<img src=\"./img/ch2.0_Python.PNG\"/> \n",
    "\n",
    "<h2 style=\"text-align:center\"><b style=\"color:blue  text-align:center\">Life is short,You need Python</b></h2>\n",
    "<p style=\"text-align:center\">      -- Bruce Eckel,ANSI C++ Comitee member</p>\n",
    "<img src=\"./img/ch2.0_GuidovanRossum.jpg\"/> "
   ]
  },
  {
   "cell_type": "markdown",
   "metadata": {},
   "source": [
    "## 2.1 The Basic Elements of Python"
   ]
  },
  {
   "cell_type": "markdown",
   "metadata": {
    "collapsed": true
   },
   "source": [
    "<p>A Python program, sometimes called <b  style=\"color:blue\">a script</b>, is a sequence of definitions and commands. <p>These definitions are evaluated and the commands are executed by the Python <b  style=\"color:blue\">interpreter</b> in something called <b  style=\"color:blue\">the shell</b>. \n",
    "<p>Typically, a new shell is created whenever execution of a program begins. In most cases, a window is associated with the shell.\n",
    "<p>The symbol<b style=\"color:blue\"> >>> </b>is a <b>shell prompt</b> indicating that the interpreter is expecting the user to type some Python code into the shell.\n",
    "<p><b>Python Shell in CMD</p>\n",
    "<img src=\"./img/ch2.1_PythonShell.PNG\"/> \n"
   ]
  },
  {
   "cell_type": "code",
   "execution_count": null,
   "metadata": {
    "collapsed": false
   },
   "outputs": [],
   "source": [
    "print('Yankees rule!')\n",
    "print('But not in Boston!')\n",
    "print('Yankees rule,', 'but not in Boston!')"
   ]
  },
  {
   "cell_type": "markdown",
   "metadata": {},
   "source": [
    "# 2.1.1 Objects, Expressions, and Numerical Types"
   ]
  },
  {
   "cell_type": "markdown",
   "metadata": {},
   "source": [
    "<p><b>Objects</b> are the core things that Python programs manipulate. Every object has a<b> type</b> that defines the kinds of things that programs can do with objects of that type.\n",
    "<p>Types are either <b>scalar or non-scalar</b>.\n",
    "<p>Scalar objects are <b>indivisible</b>. Think of them as the <b>atoms</b> of the language.\n",
    "<p>Non-scalar objects, for example strings, have <b>internal structure</b>.\n"
   ]
  },
  {
   "cell_type": "markdown",
   "metadata": {},
   "source": [
    "<p>Python has <b>four</b> types of scalar objects:\n",
    "<ol>\n",
    "<li><b>int</b> is used to represent integers: -3 or 5 or 10002\n",
    "<li><b>float</b> is used to represent real numbers： 3.0 or 3.17 or -28.72，scientific notation： 1.6E3\n",
    "<li><b>bool</b> is used to represent the Boolean values <b>True</b> and <b>False</b>\n",
    "<li><b style=\"color:blue\">None</b> is a type with a single value. We will say more about this when we get to variables \n",
    "</ol>"
   ]
  },
  {
   "cell_type": "markdown",
   "metadata": {},
   "source": [
    "<b>Objects and operators</b> can be combined to form <b>expressions</b>, each of which evaluates to an object of some type. We will refer to this as the value of the expression."
   ]
  },
  {
   "cell_type": "code",
   "execution_count": null,
   "metadata": {
    "collapsed": false
   },
   "outputs": [],
   "source": [
    "3 + 2"
   ]
  },
  {
   "cell_type": "code",
   "execution_count": null,
   "metadata": {
    "collapsed": false
   },
   "outputs": [],
   "source": [
    "3.0 + 2.0"
   ]
  },
  {
   "cell_type": "code",
   "execution_count": null,
   "metadata": {
    "collapsed": false
   },
   "outputs": [],
   "source": [
    "3 != 3"
   ]
  },
  {
   "cell_type": "markdown",
   "metadata": {},
   "source": [
    "The built-in Python function<b style=\"color:blue\"> type</b> can be used to find out the type of an object:"
   ]
  },
  {
   "cell_type": "code",
   "execution_count": null,
   "metadata": {
    "collapsed": false
   },
   "outputs": [],
   "source": [
    "type(3)"
   ]
  },
  {
   "cell_type": "code",
   "execution_count": null,
   "metadata": {
    "collapsed": false
   },
   "outputs": [],
   "source": [
    "type(3.0)"
   ]
  },
  {
   "cell_type": "code",
   "execution_count": null,
   "metadata": {
    "collapsed": false
   },
   "outputs": [],
   "source": [
    "type(True) "
   ]
  },
  {
   "cell_type": "code",
   "execution_count": null,
   "metadata": {
    "collapsed": false
   },
   "outputs": [],
   "source": [
    "type(TRue) # True Only!"
   ]
  },
  {
   "cell_type": "code",
   "execution_count": null,
   "metadata": {
    "collapsed": false
   },
   "outputs": [],
   "source": [
    "type(None)"
   ]
  },
  {
   "cell_type": "code",
   "execution_count": null,
   "metadata": {
    "collapsed": false
   },
   "outputs": [],
   "source": [
    "type(NONE) # None Only!!"
   ]
  },
  {
   "cell_type": "markdown",
   "metadata": {},
   "source": [
    "Operators on types <b>int and float</b>"
   ]
  },
  {
   "cell_type": "code",
   "execution_count": null,
   "metadata": {
    "collapsed": false
   },
   "outputs": [],
   "source": [
    "2+3 #i+j is the sum of i and j. If i and j are both of type int, the result is an int. "
   ]
  },
  {
   "cell_type": "code",
   "execution_count": null,
   "metadata": {
    "collapsed": false
   },
   "outputs": [],
   "source": [
    "2.0+3 #If either of them is a float, the result is a float"
   ]
  },
  {
   "cell_type": "code",
   "execution_count": null,
   "metadata": {
    "collapsed": false
   },
   "outputs": [],
   "source": [
    "7-2 # i–j is i minus j. If i and j are both of type int, the result is an int."
   ]
  },
  {
   "cell_type": "code",
   "execution_count": null,
   "metadata": {
    "collapsed": false
   },
   "outputs": [],
   "source": [
    "7.12-3 # If either of them is a float, the result is a float."
   ]
  },
  {
   "cell_type": "code",
   "execution_count": null,
   "metadata": {
    "collapsed": false
   },
   "outputs": [],
   "source": [
    "3*6 # i*j is the product of i and j. If i and j are both of type int, the result is an int."
   ]
  },
  {
   "cell_type": "code",
   "execution_count": null,
   "metadata": {
    "collapsed": false
   },
   "outputs": [],
   "source": [
    "3.12*6 # If either of them is a float, the result is a float."
   ]
  },
  {
   "cell_type": "code",
   "execution_count": null,
   "metadata": {
    "collapsed": false
   },
   "outputs": [],
   "source": [
    "6//2 # integer division returns the quotient and ignores the remainder."
   ]
  },
  {
   "cell_type": "code",
   "execution_count": null,
   "metadata": {
    "collapsed": false
   },
   "outputs": [],
   "source": [
    "7//2  # integer division returns the quotient and ignores the remainder."
   ]
  },
  {
   "cell_type": "code",
   "execution_count": null,
   "metadata": {
    "collapsed": false
   },
   "outputs": [],
   "source": [
    "6/2 #  In Python 3, the / operator  always returns a float"
   ]
  },
  {
   "cell_type": "code",
   "execution_count": null,
   "metadata": {
    "collapsed": false
   },
   "outputs": [],
   "source": [
    "7/2 #  In Python 3, the / operator  always returns a float"
   ]
  },
  {
   "cell_type": "code",
   "execution_count": null,
   "metadata": {
    "collapsed": false
   },
   "outputs": [],
   "source": [
    "7%2 # remainder，i%6 i mod j"
   ]
  },
  {
   "cell_type": "code",
   "execution_count": null,
   "metadata": {
    "collapsed": false
   },
   "outputs": [],
   "source": [
    "2**3      #i**j is i raised to the power j. If i and j are both of type int, the result is an int."
   ]
  },
  {
   "cell_type": "code",
   "execution_count": null,
   "metadata": {
    "collapsed": false
   },
   "outputs": [],
   "source": [
    "2.1**3   # If either of them is a float, the result is a float"
   ]
  },
  {
   "cell_type": "code",
   "execution_count": null,
   "metadata": {
    "collapsed": false
   },
   "outputs": [],
   "source": [
    "2**3.1  # If either of them is a float, the result is a float"
   ]
  },
  {
   "cell_type": "markdown",
   "metadata": {},
   "source": [
    "The comparison operators are<b> == (equal), != (not equal), > (greater),>= (at least), <, (less) and <= (at most).</b>"
   ]
  },
  {
   "cell_type": "markdown",
   "metadata": {
    "collapsed": true
   },
   "source": [
    "<hr />\n",
    "<p>The operators on type<b style=\"color:blue\"> bool</b> are:\n",
    "<ul>\n",
    "<li>a <b>and</b> b is True if both a and b are True, and False otherwise.\n",
    "<li>a <b>or</b> b is True if at least one of a or b is True, and False otherwise.\n",
    "<li><b>not</b> a is True if a is False, and False if a is True.\n",
    "</ul>"
   ]
  },
  {
   "cell_type": "markdown",
   "metadata": {},
   "source": [
    "### 2.1.2 Variables and Assignment"
   ]
  },
  {
   "cell_type": "markdown",
   "metadata": {},
   "source": [
    "<p><b>Variables</b> provide a way to associate<b> names</b> with <b>objects</b>.\n",
    "<p>In Python, variable names can contain uppercase and lowercase <b>letters</b>, <b>digits</b>, (but they <b>cannot start</b> with a digit), and the special character<b> _</b>. Python variable names are<b> case-sensitive</b> e.g., Julie and julie are different names.\n",
    "<p>Finally, there are a small number of <b>reserved words</b> (sometimes called keywords) in Python that have built-in meanings and cannot be used as variable names.\n",
    "\n",
    "In Python, a variable is <b>just a name</b>, nothing more."
   ]
  },
  {
   "cell_type": "code",
   "execution_count": 47,
   "metadata": {
    "collapsed": false
   },
   "outputs": [
    {
     "name": "stdout",
     "output_type": "stream",
     "text": [
      "<class 'int'>\n",
      "363\n"
     ]
    }
   ],
   "source": [
    "pi = 3\n",
    "radius = 11  #  bound to a object of type int\n",
    "print(type(radius))\n",
    "area = pi * (radius**2)\n",
    "radius = 14.0 # rebound to a different object of type float\n",
    "type(radius)\n",
    "print(area)"
   ]
  },
  {
   "cell_type": "markdown",
   "metadata": {},
   "source": [
    "Despite what Juliet  said, \n",
    " “What's in a name? That which we call a rose by any other name would smell as sweet.”\n",
    "\n",
    "<b>names matter</b>\n",
    "\n",
    "Experienced programmers will confirm that they spend a great deal of time <b>reading programs</b> in an attempt to <b>understand</b> why they behave as they do.\n",
    "\n",
    "<p>It is therefore of <b>critical importance </b>to write programs in such way that they are<b> easy to read</b>."
   ]
  },
  {
   "cell_type": "code",
   "execution_count": 48,
   "metadata": {
    "collapsed": true
   },
   "outputs": [],
   "source": [
    "a = 3.14159\n",
    "b = 11.2 \n",
    "c = a*(b**2) "
   ]
  },
  {
   "cell_type": "markdown",
   "metadata": {},
   "source": [
    "Apt choice of variable names plays an important role in enhancing  readability.\n",
    "\n",
    "Another good way to enhance the readability of code is to add<b style=\"color:blue\"> comments</b>. Text following the symbol <b style=\"color:blue\"> #</b> is not interpreted by Python."
   ]
  },
  {
   "cell_type": "code",
   "execution_count": 49,
   "metadata": {
    "collapsed": false
   },
   "outputs": [
    {
     "ename": "NameError",
     "evalue": "name 'side' is not defined",
     "output_type": "error",
     "traceback": [
      "\u001b[1;31m---------------------------------------------------------------------------\u001b[0m",
      "\u001b[1;31mNameError\u001b[0m                                 Traceback (most recent call last)",
      "\u001b[1;32m<ipython-input-49-78f884db8a03>\u001b[0m in \u001b[0;36m<module>\u001b[1;34m()\u001b[0m\n\u001b[0;32m      2\u001b[0m \u001b[1;33m\u001b[0m\u001b[0m\n\u001b[0;32m      3\u001b[0m \u001b[0mareaC\u001b[0m \u001b[1;33m=\u001b[0m \u001b[0mpi\u001b[0m\u001b[1;33m*\u001b[0m\u001b[0mradius\u001b[0m\u001b[1;33m**\u001b[0m\u001b[1;36m2\u001b[0m\u001b[1;33m\u001b[0m\u001b[0m\n\u001b[1;32m----> 4\u001b[1;33m \u001b[0mareaS\u001b[0m \u001b[1;33m=\u001b[0m \u001b[0mside\u001b[0m\u001b[1;33m*\u001b[0m\u001b[0mside\u001b[0m\u001b[1;33m\u001b[0m\u001b[0m\n\u001b[0m\u001b[0;32m      5\u001b[0m \u001b[0mdifference\u001b[0m \u001b[1;33m=\u001b[0m \u001b[0mareaC\u001b[0m\u001b[1;33m-\u001b[0m\u001b[0mareaS\u001b[0m\u001b[1;33m\u001b[0m\u001b[0m\n",
      "\u001b[1;31mNameError\u001b[0m: name 'side' is not defined"
     ]
    }
   ],
   "source": [
    "# subtract area of square s from area of circle c\n",
    "\n",
    "areaC = pi*radius**2\n",
    "areaS = side*side\n",
    "difference = areaC-areaS"
   ]
  },
  {
   "cell_type": "markdown",
   "metadata": {},
   "source": [
    "Python allows<b style=\"color:blue\"> multiple assignment</b>."
   ]
  },
  {
   "cell_type": "code",
   "execution_count": null,
   "metadata": {
    "collapsed": true
   },
   "outputs": [],
   "source": [
    "x, y = 2, 3"
   ]
  },
  {
   "cell_type": "code",
   "execution_count": null,
   "metadata": {
    "collapsed": false
   },
   "outputs": [],
   "source": [
    "x"
   ]
  },
  {
   "cell_type": "code",
   "execution_count": null,
   "metadata": {
    "collapsed": false
   },
   "outputs": [],
   "source": [
    "y"
   ]
  },
  {
   "cell_type": "code",
   "execution_count": null,
   "metadata": {
    "collapsed": false
   },
   "outputs": [],
   "source": [
    "x, y = y, x   #use multiple assignment to swap the bindings of two variables.\n",
    "print('x =', x)\n",
    "print('y =', y)"
   ]
  },
  {
   "cell_type": "markdown",
   "metadata": {},
   "source": [
    " ## The complex type\n",
    "\n",
    "The final type, complex, is probably not as recognizable to most programmers because it is not a common built-in data type in other programming language. To engineers and scientists, complex numbers are a familiar concept. Formally, a complex number has a real and an imaginary component, both represented by float types in Python. \n",
    "\n",
    "In Python,  <b>the imaginary component </b> of a complex number is indicated by a <b  style=\"color:blue\"> j </b>:\n"
   ]
  },
  {
   "cell_type": "raw",
   "metadata": {},
   "source": [
    "c1=complex(1,2)\n",
    "c1"
   ]
  },
  {
   "cell_type": "code",
   "execution_count": null,
   "metadata": {
    "collapsed": false
   },
   "outputs": [],
   "source": [
    "c2 = 3.0 + 1.2j\n",
    "c2"
   ]
  },
  {
   "cell_type": "code",
   "execution_count": null,
   "metadata": {
    "collapsed": false
   },
   "outputs": [],
   "source": [
    "complex('1+2j')"
   ]
  },
  {
   "cell_type": "markdown",
   "metadata": {},
   "source": [
    "When converting from a string, the string must not contain whitespace around the central + or - operator\n"
   ]
  },
  {
   "cell_type": "code",
   "execution_count": null,
   "metadata": {
    "collapsed": false
   },
   "outputs": [],
   "source": [
    "complex('1 + 2j') # raises ValueError."
   ]
  },
  {
   "cell_type": "code",
   "execution_count": 26,
   "metadata": {
    "collapsed": false
   },
   "outputs": [
    {
     "data": {
      "text/plain": [
       "(1+0j)"
      ]
     },
     "execution_count": 26,
     "metadata": {},
     "output_type": "execute_result"
    }
   ],
   "source": [
    "complex(1)"
   ]
  },
  {
   "cell_type": "code",
   "execution_count": 27,
   "metadata": {
    "collapsed": false
   },
   "outputs": [
    {
     "data": {
      "text/plain": [
       "2j"
      ]
     },
     "execution_count": 27,
     "metadata": {},
     "output_type": "execute_result"
    }
   ],
   "source": [
    "complex(2j)"
   ]
  },
  {
   "cell_type": "code",
   "execution_count": 29,
   "metadata": {
    "collapsed": false
   },
   "outputs": [
    {
     "data": {
      "text/plain": [
       "(1+0j)"
      ]
     },
     "execution_count": 29,
     "metadata": {},
     "output_type": "execute_result"
    }
   ],
   "source": [
    "complex('1')"
   ]
  },
  {
   "cell_type": "code",
   "execution_count": 30,
   "metadata": {
    "collapsed": false
   },
   "outputs": [
    {
     "data": {
      "text/plain": [
       "2j"
      ]
     },
     "execution_count": 30,
     "metadata": {},
     "output_type": "execute_result"
    }
   ],
   "source": [
    "complex('2j')"
   ]
  },
  {
   "cell_type": "code",
   "execution_count": 31,
   "metadata": {
    "collapsed": false
   },
   "outputs": [
    {
     "data": {
      "text/plain": [
       "0.0"
      ]
     },
     "execution_count": 31,
     "metadata": {},
     "output_type": "execute_result"
    }
   ],
   "source": [
    "c1.imag"
   ]
  },
  {
   "cell_type": "code",
   "execution_count": 32,
   "metadata": {
    "collapsed": false
   },
   "outputs": [
    {
     "data": {
      "text/plain": [
       "1.0"
      ]
     },
     "execution_count": 32,
     "metadata": {},
     "output_type": "execute_result"
    }
   ],
   "source": [
    "c1.real"
   ]
  },
  {
   "cell_type": "code",
   "execution_count": 33,
   "metadata": {
    "collapsed": false
   },
   "outputs": [
    {
     "data": {
      "text/plain": [
       "(1-0j)"
      ]
     },
     "execution_count": 33,
     "metadata": {},
     "output_type": "execute_result"
    }
   ],
   "source": [
    "c1.conjugate()"
   ]
  },
  {
   "cell_type": "code",
   "execution_count": 44,
   "metadata": {
    "collapsed": false
   },
   "outputs": [
    {
     "data": {
      "text/plain": [
       "2.23606797749979"
      ]
     },
     "execution_count": 44,
     "metadata": {},
     "output_type": "execute_result"
    }
   ],
   "source": [
    "abs(c1)  # modulus of complex numbers"
   ]
  },
  {
   "cell_type": "code",
   "execution_count": 36,
   "metadata": {
    "collapsed": false
   },
   "outputs": [
    {
     "data": {
      "text/plain": [
       "(3+3j)"
      ]
     },
     "execution_count": 36,
     "metadata": {},
     "output_type": "execute_result"
    }
   ],
   "source": [
    "c1=1+2j\n",
    "c2=2+1j\n",
    "c1+c2"
   ]
  },
  {
   "cell_type": "code",
   "execution_count": 37,
   "metadata": {
    "collapsed": false
   },
   "outputs": [
    {
     "data": {
      "text/plain": [
       "(-1+1j)"
      ]
     },
     "execution_count": 37,
     "metadata": {},
     "output_type": "execute_result"
    }
   ],
   "source": [
    "c1-c2"
   ]
  },
  {
   "cell_type": "code",
   "execution_count": 38,
   "metadata": {
    "collapsed": false
   },
   "outputs": [
    {
     "data": {
      "text/plain": [
       "5j"
      ]
     },
     "execution_count": 38,
     "metadata": {},
     "output_type": "execute_result"
    }
   ],
   "source": [
    "c1*c2"
   ]
  },
  {
   "cell_type": "code",
   "execution_count": 39,
   "metadata": {
    "collapsed": false
   },
   "outputs": [
    {
     "data": {
      "text/plain": [
       "(0.8+0.6j)"
      ]
     },
     "execution_count": 39,
     "metadata": {},
     "output_type": "execute_result"
    }
   ],
   "source": [
    "c1/c2"
   ]
  },
  {
   "cell_type": "code",
   "execution_count": 42,
   "metadata": {
    "collapsed": false
   },
   "outputs": [
    {
     "data": {
      "text/plain": [
       "False"
      ]
     },
     "execution_count": 42,
     "metadata": {},
     "output_type": "execute_result"
    }
   ],
   "source": [
    "c1==c2"
   ]
  },
  {
   "cell_type": "code",
   "execution_count": 45,
   "metadata": {
    "collapsed": false
   },
   "outputs": [
    {
     "data": {
      "text/plain": [
       "True"
      ]
     },
     "execution_count": 45,
     "metadata": {},
     "output_type": "execute_result"
    }
   ],
   "source": [
    "c1!=c2"
   ]
  },
  {
   "cell_type": "code",
   "execution_count": 43,
   "metadata": {
    "collapsed": false
   },
   "outputs": [
    {
     "ename": "TypeError",
     "evalue": "unorderable types: complex() < complex()",
     "output_type": "error",
     "traceback": [
      "\u001b[1;31m---------------------------------------------------------------------------\u001b[0m",
      "\u001b[1;31mTypeError\u001b[0m                                 Traceback (most recent call last)",
      "\u001b[1;32m<ipython-input-43-6820665ff26f>\u001b[0m in \u001b[0;36m<module>\u001b[1;34m()\u001b[0m\n\u001b[1;32m----> 1\u001b[1;33m \u001b[0mc1\u001b[0m\u001b[1;33m<\u001b[0m\u001b[0mc2\u001b[0m\u001b[1;33m\u001b[0m\u001b[0m\n\u001b[0m",
      "\u001b[1;31mTypeError\u001b[0m: unorderable types: complex() < complex()"
     ]
    }
   ],
   "source": [
    "c1<c2"
   ]
  },
  {
   "cell_type": "markdown",
   "metadata": {},
   "source": [
    " There are three distinct <b>numeric types</b>: <b  style=\"color:blue\">integers, floating point numbers, and complex numbers</b>"
   ]
  },
  {
   "cell_type": "markdown",
   "metadata": {},
   "source": [
    "##### Ref: \n",
    "\n",
    "1  Numeric Types — int, float, complex\n",
    "\n",
    "   https://docs.python.org/3.5/library/stdtypes.html#typesnumeric\n",
    "\n",
    "2 Discover Python, Part 1: Python's built-in numerical types    \n",
    "    \n",
    "http://www.ibm.com/developerworks/opensource/library/os-python1/?S_TACT=105AGX52&S_CMP=cn-a-os\n",
    "    \n",
    "Robert J. Brunner. 探索 Python，第 1 部分: Python 的内置数值类型 \n",
    "    \n",
    "http://www.ibm.com/developerworks/cn/opensource/os-python1/\n"
   ]
  },
  {
   "cell_type": "markdown",
   "metadata": {},
   "source": [
    "### 2.1.3 IDLE"
   ]
  },
  {
   "cell_type": "markdown",
   "metadata": {},
   "source": [
    "Typing programs directly into the shell is highly inconvenient. Most programmers prefer to use some sort of text editor that is part of an integrated\n",
    "development environment (IDE).\n",
    "<p>In this course, we will use <b>IDLE </b>,the IDE that comes as part of the standard Python installation package.\n",
    "<p>When IDLE starts it will open a <b>shell </b> window into which you can type Python commands</p>\n",
    "<img src=\"./img/ch2.1_PythonShellAtIDLE.PNG\"/> \n",
    "<p>It will also provide you with a <b>file menu and an edit menu</b></p>\n",
    "<img src=\"./img/ch2.1.3_PythonIDLE.PNG\"/>"
   ]
  },
  {
   "cell_type": "markdown",
   "metadata": {},
   "source": [
    "## 2.2 Branching Programs"
   ]
  },
  {
   "cell_type": "markdown",
   "metadata": {},
   "source": [
    "In Python, a <b style=\"color:blue\">conditional statement</b> has the form"
   ]
  },
  {
   "cell_type": "code",
   "execution_count": null,
   "metadata": {
    "collapsed": true
   },
   "outputs": [],
   "source": [
    "if Boolean expression:\n",
    "    block of code\n",
    "else:\n",
    "    block of code"
   ]
  },
  {
   "cell_type": "code",
   "execution_count": null,
   "metadata": {
    "collapsed": false
   },
   "outputs": [],
   "source": [
    "x=11\n",
    "# the following program that prints “Even” if the value of the variable x is even and “Odd” otherwise:\n",
    "if x % 2 == 0:\n",
    "    print('Even')\n",
    "else:\n",
    "    print('Odd')\n",
    "print('Done with conditional')"
   ]
  },
  {
   "cell_type": "markdown",
   "metadata": {},
   "source": [
    "<hr >\n",
    "<h3><b style=\"color:blue\">Indentation is semantically meaningful in Python!!!!!!</b></h3>\n",
    "<p>Python is unusual in using <b style=\"color:blue\">indentation </b>this way. Most other programming\n",
    "languages use some sort of bracketing symbols to delineate blocks of code, e.g.,C encloses blocks in braces,<b style=\"color:blue\"> { }</b>. An advantage of the Python approach is that it ensures that the visual structure of a program is an accurate representation of the semantic structure of that program."
   ]
  },
  {
   "cell_type": "code",
   "execution_count": null,
   "metadata": {
    "collapsed": false
   },
   "outputs": [],
   "source": [
    "x=2*3*7   # both \n",
    "\n",
    "#x=2*7    # only 2\n",
    "\n",
    "#x=3*7    # only 3\n",
    "\n",
    "# the conditional statements are nested.\n",
    "if x % 2 == 0:\n",
    "   \n",
    "    if x % 3 == 0:   # both \n",
    "        print('Divisible by 2 and 3')\n",
    "    else:\n",
    "        print('Divisible by 2 and not by 3')  # only 2\n",
    "         \n",
    "elif x % 3 == 0:    # elif : else  if,  only 3\n",
    "    print('Divisible by 3 and not by 2')"
   ]
  },
  {
   "cell_type": "code",
   "execution_count": null,
   "metadata": {
    "collapsed": true
   },
   "outputs": [],
   "source": [
    "if x < y and x < z:  # compound Boolean expressions \n",
    "    print('x is least')\n",
    "elif y < z:\n",
    "    print('y is least')\n",
    "else:\n",
    "    print('z is least')"
   ]
  },
  {
   "cell_type": "markdown",
   "metadata": {},
   "source": [
    "A program for which the maximum running time is bounded by the length of the program is said to run in <b>constant time</b>. \n",
    "\n",
    "This implies that the running time <b>does not grow with the size of the input</b> to the program.\n",
    "\n",
    "Constant-time programs are  <b>quite limited</b> in what they can do.\n",
    "\n",
    "The study of the intrinsic difficulty of problems is the topic of <b>computational complexity.</b>\n",
    "\n",
    "\n"
   ]
  },
  {
   "cell_type": "markdown",
   "metadata": {},
   "source": [
    "## 2.3 Strings and Input\n",
    "\n",
    "Objects of type str are used to represent strings of characters.\n",
    "<p>Literals of type str can be written using <b>either single or double quotes</b>, e.g., 'abc' or \"abc\".\n"
   ]
  },
  {
   "cell_type": "code",
   "execution_count": null,
   "metadata": {
    "collapsed": false
   },
   "outputs": [],
   "source": [
    "'a'"
   ]
  },
  {
   "cell_type": "code",
   "execution_count": null,
   "metadata": {
    "collapsed": false
   },
   "outputs": [],
   "source": [
    "3*4   # The operator * "
   ]
  },
  {
   "cell_type": "code",
   "execution_count": null,
   "metadata": {
    "collapsed": false
   },
   "outputs": [],
   "source": [
    "3*'a'   # The operator * is overloaded\n",
    "\n",
    "# 3*4 is equivalent to 4+4+4, \n",
    "# the expression 3*'a' is equivalent to 'a'+'a'+'a'."
   ]
  },
  {
   "cell_type": "code",
   "execution_count": null,
   "metadata": {
    "collapsed": false
   },
   "outputs": [],
   "source": [
    "3+4 # The operator * "
   ]
  },
  {
   "cell_type": "code",
   "execution_count": null,
   "metadata": {
    "collapsed": false
   },
   "outputs": [],
   "source": [
    "'a'+'a'  # The operator * is overloaded"
   ]
  },
  {
   "cell_type": "code",
   "execution_count": null,
   "metadata": {
    "collapsed": false
   },
   "outputs": [],
   "source": [
    "'a'*'a'  "
   ]
  },
  {
   "cell_type": "markdown",
   "metadata": {},
   "source": [
    "The <b>type checking in Python</b> is not as, strong as in some other programming languages (e.g., Java)."
   ]
  },
  {
   "cell_type": "code",
   "execution_count": null,
   "metadata": {
    "collapsed": false
   },
   "outputs": [],
   "source": [
    "'4' < 3  # all numeric values should be less than all values of type str :Python2, not python3!"
   ]
  },
  {
   "cell_type": "markdown",
   "metadata": {},
   "source": [
    "#### MORE ABOUT:  Variables, Name AND Objects\n"
   ]
  },
  {
   "cell_type": "code",
   "execution_count": null,
   "metadata": {
    "collapsed": false
   },
   "outputs": [],
   "source": [
    "a        # name only, not bound to any object, not a literal of any type "
   ]
  },
  {
   "cell_type": "markdown",
   "metadata": {},
   "source": [
    "\n",
    "Variables provide a way to associate <b>names</b> with <b>objects</b>.\n",
    "\n",
    "a <b>variable</b> is <b>just a name</b>, nothing more."
   ]
  },
  {
   "cell_type": "markdown",
   "metadata": {},
   "source": [
    "<h3>Strings are one of several sequence types in Python. They share the following operations with all sequence types.</h3>\n",
    "<ul>\n",
    "<li>The <b>length</b> of a string can be found using the len function. For example, the value of <b>len('abc')</b> is 3\n",
    "<li><b>Indexing</b> can be used to extract individual characters from a string. In Python,all indexing is <b>zero-based</b>. For example, typing 'abc'[0] into the interpreter will cause it to display the string 'a'.\n",
    "<li><b>Slicing</b> is used to extract substrings of arbitrary length. If s is a string, the expression <b>s[start:end] </b> denotes the substring of s that starts at index start and ends at index <b>end-1</b>. For example, 'abc'[1:3] = 'bc'.\n",
    "</ul>\n",
    "\n"
   ]
  },
  {
   "cell_type": "code",
   "execution_count": null,
   "metadata": {
    "collapsed": false
   },
   "outputs": [],
   "source": [
    "len('abd')"
   ]
  },
  {
   "cell_type": "code",
   "execution_count": null,
   "metadata": {
    "collapsed": false
   },
   "outputs": [],
   "source": [
    "'abd'[0]"
   ]
  },
  {
   "cell_type": "code",
   "execution_count": null,
   "metadata": {
    "collapsed": false
   },
   "outputs": [],
   "source": [
    "'abc'[1:3]"
   ]
  },
  {
   "cell_type": "code",
   "execution_count": null,
   "metadata": {
    "collapsed": false
   },
   "outputs": [],
   "source": [
    "'abc'[0:len('abc')]"
   ]
  },
  {
   "cell_type": "code",
   "execution_count": null,
   "metadata": {
    "collapsed": false
   },
   "outputs": [],
   "source": [
    "'abc'[:len('abc')]  # omit the starting index"
   ]
  },
  {
   "cell_type": "markdown",
   "metadata": {},
   "source": [
    "### Advanced String Slicing\n",
    "\n",
    "you can slice a string with a call such as s[i:j], which gives you a portion of string s from index i to index j-1. However this is not the only way to slice a string! If you omit the starting index, Python will assume that you wish to start your slice at index 0. If you omit the ending index, Python will assume you wish to end your slice at the end of the string. Check out this session with the Python shell:"
   ]
  },
  {
   "cell_type": "code",
   "execution_count": 17,
   "metadata": {
    "collapsed": false
   },
   "outputs": [
    {
     "data": {
      "text/plain": [
       "'ytho'"
      ]
     },
     "execution_count": 17,
     "metadata": {},
     "output_type": "execute_result"
    }
   ],
   "source": [
    "s = 'Python is Fun!'\n",
    "s[1:5]"
   ]
  },
  {
   "cell_type": "code",
   "execution_count": 18,
   "metadata": {
    "collapsed": false
   },
   "outputs": [
    {
     "data": {
      "text/plain": [
       "'Pytho'"
      ]
     },
     "execution_count": 18,
     "metadata": {},
     "output_type": "execute_result"
    }
   ],
   "source": [
    "s[:5]"
   ]
  },
  {
   "cell_type": "code",
   "execution_count": 19,
   "metadata": {
    "collapsed": false
   },
   "outputs": [
    {
     "data": {
      "text/plain": [
       "'ython is Fun!'"
      ]
     },
     "execution_count": 19,
     "metadata": {},
     "output_type": "execute_result"
    }
   ],
   "source": [
    "s[1:]"
   ]
  },
  {
   "cell_type": "code",
   "execution_count": 20,
   "metadata": {
    "collapsed": false
   },
   "outputs": [
    {
     "data": {
      "text/plain": [
       "'Python is Fun!'"
      ]
     },
     "execution_count": 20,
     "metadata": {},
     "output_type": "execute_result"
    }
   ],
   "source": [
    "s[:]"
   ]
  },
  {
   "cell_type": "markdown",
   "metadata": {},
   "source": [
    "That last example is interesting! If you <b>omit</b> both the start and ending index, you get your original string!\n",
    "\n",
    "There's one other cool thing you can do with string slicing. You can add a third parameter, <b>k<b>, like this: s[i:j<b>:k</b>]. This gives a slice of the string s from index i to index j-1, with<b> step size k</b>. Check out the following examples:\n"
   ]
  },
  {
   "cell_type": "code",
   "execution_count": 21,
   "metadata": {
    "collapsed": false
   },
   "outputs": [
    {
     "data": {
      "text/plain": [
       "'yhni u'"
      ]
     },
     "execution_count": 21,
     "metadata": {},
     "output_type": "execute_result"
    }
   ],
   "source": [
    "s[1:12:2]"
   ]
  },
  {
   "cell_type": "code",
   "execution_count": 22,
   "metadata": {
    "collapsed": false
   },
   "outputs": [
    {
     "data": {
      "text/plain": [
       "'yoiF'"
      ]
     },
     "execution_count": 22,
     "metadata": {},
     "output_type": "execute_result"
    }
   ],
   "source": [
    "s[1:12:3]"
   ]
  },
  {
   "cell_type": "code",
   "execution_count": 23,
   "metadata": {
    "collapsed": false
   },
   "outputs": [
    {
     "data": {
      "text/plain": [
       "'Pto sFn'"
      ]
     },
     "execution_count": 23,
     "metadata": {},
     "output_type": "execute_result"
    }
   ],
   "source": [
    "s[::2]"
   ]
  },
  {
   "cell_type": "markdown",
   "metadata": {},
   "source": [
    "The last example is similar to the example <b>s[:]</b>. With <b>s[::2]</b>, we're asking for the full string s (from index 0 through 13), with <b>a step size of 2</b> - so we end up with <b>every other character</b> in s"
   ]
  },
  {
   "cell_type": "code",
   "execution_count": 24,
   "metadata": {
    "collapsed": false
   },
   "outputs": [
    {
     "data": {
      "text/plain": [
       "'!nuF si nohtyP'"
      ]
     },
     "execution_count": 24,
     "metadata": {},
     "output_type": "execute_result"
    }
   ],
   "source": [
    "s[::-1]  #  a step size<0  reverse"
   ]
  },
  {
   "cell_type": "markdown",
   "metadata": {},
   "source": [
    "### 2.3.1 Input\n",
    "\n",
    "Python 3 has only one command, input. Python 3’s input has the same semantics as raw_input in Python 2.7.\n",
    "<p>input line is treated as a <b>string</b> and becomes the value returned by the function;"
   ]
  },
  {
   "cell_type": "code",
   "execution_count": null,
   "metadata": {
    "collapsed": true
   },
   "outputs": [],
   "source": [
    "name = input('Enter your name: ')"
   ]
  },
  {
   "cell_type": "code",
   "execution_count": null,
   "metadata": {
    "collapsed": false
   },
   "outputs": [],
   "source": [
    "print('Are you really', name, '?')  \n",
    "# print is given multiple arguments, it places a blank space between the values associated with the arguments"
   ]
  },
  {
   "cell_type": "code",
   "execution_count": null,
   "metadata": {
    "collapsed": false
   },
   "outputs": [],
   "source": [
    "print('Are you really ' + name + '?')\n",
    "\n",
    "#  The print statementuses concatenation to produce a string that does not contain \n",
    "#  the superfluous blank and passes this as the only argument to print."
   ]
  },
  {
   "cell_type": "code",
   "execution_count": null,
   "metadata": {
    "collapsed": false
   },
   "outputs": [],
   "source": [
    "n = input('Enter an int: ')"
   ]
  },
  {
   "cell_type": "code",
   "execution_count": null,
   "metadata": {
    "collapsed": false
   },
   "outputs": [],
   "source": [
    "print(type(n))"
   ]
  },
  {
   "cell_type": "markdown",
   "metadata": {
    "collapsed": true
   },
   "source": [
    "Notice that the variable n is bound to the str '3' not the int 3."
   ]
  },
  {
   "cell_type": "code",
   "execution_count": null,
   "metadata": {
    "collapsed": false
   },
   "outputs": [],
   "source": [
    "n*4"
   ]
  },
  {
   "cell_type": "markdown",
   "metadata": {
    "collapsed": true
   },
   "source": [
    "Type conversions (also called type casts) are used often in Python code. \n",
    "We use the name of a type to convert values to that type."
   ]
  },
  {
   "cell_type": "code",
   "execution_count": null,
   "metadata": {
    "collapsed": false
   },
   "outputs": [],
   "source": [
    "a=int(n)"
   ]
  },
  {
   "cell_type": "code",
   "execution_count": null,
   "metadata": {
    "collapsed": false
   },
   "outputs": [],
   "source": [
    "type(a)"
   ]
  },
  {
   "cell_type": "code",
   "execution_count": null,
   "metadata": {
    "collapsed": false
   },
   "outputs": [],
   "source": [
    "int(n)*4"
   ]
  },
  {
   "cell_type": "markdown",
   "metadata": {
    "collapsed": true
   },
   "source": [
    "When a float is converted to an int, the number is truncated (not rounded), e.g., "
   ]
  },
  {
   "cell_type": "code",
   "execution_count": null,
   "metadata": {
    "collapsed": false
   },
   "outputs": [],
   "source": [
    "int(3.9)"
   ]
  },
  {
   "cell_type": "markdown",
   "metadata": {},
   "source": [
    "## 2.4 Iteration"
   ]
  },
  {
   "cell_type": "code",
   "execution_count": null,
   "metadata": {
    "collapsed": true
   },
   "outputs": [],
   "source": [
    "initial value  # ！！！\n",
    "while Boolean expression:\n",
    "      block of code"
   ]
  },
  {
   "cell_type": "code",
   "execution_count": null,
   "metadata": {
    "collapsed": false
   },
   "outputs": [],
   "source": [
    "# Square an integer, the hard way X**2\n",
    "x = 3  \n",
    "ans = 0   \n",
    "itersLeft = x      # initial value ：X\n",
    "while (itersLeft != 0):\n",
    "    ans = ans + x  # x**2  to repetitive +\n",
    "    itersLeft = itersLeft - 1  \n",
    "print(str(x) + '*' + str(x) + ' = ' + str(ans))"
   ]
  },
  {
   "cell_type": "markdown",
   "metadata": {},
   "source": [
    "For what values of x will this program <b>terminate</b>? x>0"
   ]
  },
  {
   "cell_type": "markdown",
   "metadata": {},
   "source": [
    "## 2.5 Python Developer's Guide\n",
    "\n",
    "https://www.python.org/dev/\n",
    "\n",
    "Python Enhancement Proposals"
   ]
  },
  {
   "cell_type": "markdown",
   "metadata": {},
   "source": [
    "### 2.5.1 The Zen of Python ,PEP20 (Python Enhancement Proposals)\n",
    "\n",
    "https://www.python.org/dev/peps/pep-0020/"
   ]
  },
  {
   "cell_type": "code",
   "execution_count": null,
   "metadata": {
    "collapsed": false
   },
   "outputs": [],
   "source": [
    "# Easter Egg\n",
    "import this"
   ]
  },
  {
   "cell_type": "markdown",
   "metadata": {},
   "source": [
    "### 2.5.2 Coding convention: PEP8()\n",
    "\n",
    "https://www.python.org/dev/peps/pep-0008/\n",
    "\n",
    "<ul>\n",
    "<li>Use 4 spaces per indentation level. \n",
    "<li>Limit all lines to a maximum of 79 characters. \n",
    "<li>Surround top-level function and class definitions with two blank lines. \n",
    "<li>Code in the core Python distribution should always use UTF-8 (or ASCII in Python 2). \n",
    "<li>Imports should usually be on separate lines\n",
    "<li>Variable, method, modules name should be lower_case (with underscore, only if needed)\n",
    "<li>Constant should be UPPER_CASE\n",
    "<li>Class names should normally use the CapWords convention \n",
    "<li>single letter variable should be limited to loop indexes\n",
    "</ul>"
   ]
  },
  {
   "cell_type": "markdown",
   "metadata": {},
   "source": [
    "### pep8 - Python style guide checker\n",
    "\n",
    "pep8 is a tool to check your Python code against some of the style conventions in PEP 8.\n",
    "\n",
    "#### Installation"
   ]
  },
  {
   "cell_type": "code",
   "execution_count": null,
   "metadata": {
    "collapsed": false
   },
   "outputs": [],
   "source": [
    "!pip install pep8\n",
    "!pip install --upgrade pep8\n",
    "!pip uninstall pep8"
   ]
  },
  {
   "cell_type": "markdown",
   "metadata": {},
   "source": [
    "#### Example usage and output\n",
    "\n",
    "show first occurrence of each error"
   ]
  },
  {
   "cell_type": "code",
   "execution_count": null,
   "metadata": {
    "collapsed": false
   },
   "outputs": [],
   "source": [
    "!pep8 --first ch2_code_ok.py"
   ]
  },
  {
   "cell_type": "markdown",
   "metadata": {},
   "source": [
    "You can also make pep8.py show the source code for each error, and even the relevant text from PEP 8:"
   ]
  },
  {
   "cell_type": "code",
   "execution_count": null,
   "metadata": {
    "collapsed": false
   },
   "outputs": [],
   "source": [
    "!pep8 --show-source --show-pep8 ch2_code_ok.py"
   ]
  },
  {
   "cell_type": "markdown",
   "metadata": {},
   "source": [
    "you can display how often each error was found:"
   ]
  },
  {
   "cell_type": "code",
   "execution_count": null,
   "metadata": {
    "collapsed": false
   },
   "outputs": [],
   "source": [
    "!pep8 --statistics ch2_code_ok.py"
   ]
  },
  {
   "cell_type": "markdown",
   "metadata": {},
   "source": [
    "### autopep8\n",
    "A tool that automatically formats Python code to conform to the PEP 8 style guide"
   ]
  },
  {
   "cell_type": "code",
   "execution_count": null,
   "metadata": {
    "collapsed": true
   },
   "outputs": [],
   "source": [
    "!pip install --upgrade autopep8"
   ]
  },
  {
   "cell_type": "markdown",
   "metadata": {},
   "source": [
    "To modify a file in place (with aggressive level 2）："
   ]
  },
  {
   "cell_type": "code",
   "execution_count": null,
   "metadata": {
    "collapsed": false
   },
   "outputs": [],
   "source": [
    "!autopep8 --in-place --aggressive --aggressive ch2_code_ok.py"
   ]
  },
  {
   "cell_type": "markdown",
   "metadata": {},
   "source": [
    "# pytest-pep8\n",
    "pytest plugin to check PEP8 requirements\n",
    "\n",
    "http://pytest.org/  ： help you write better programs"
   ]
  },
  {
   "cell_type": "code",
   "execution_count": null,
   "metadata": {
    "collapsed": true
   },
   "outputs": [],
   "source": [
    "pip install pytest-pep8"
   ]
  },
  {
   "cell_type": "code",
   "execution_count": null,
   "metadata": {
    "collapsed": true
   },
   "outputs": [],
   "source": [
    "py.test --pep8"
   ]
  },
  {
   "cell_type": "markdown",
   "metadata": {},
   "source": [
    "every file ending in .py will be discovered and pep8-checked, starting from the command line arguments."
   ]
  },
  {
   "cell_type": "markdown",
   "metadata": {},
   "source": [
    "# Pylint\n",
    "\n",
    "Pylint is a tool that checks for errors in Python code, tries to enforce a coding standard and looks for bad code smells\n",
    "\n",
    "http://www.pylint.org"
   ]
  },
  {
   "cell_type": "markdown",
   "metadata": {
    "collapsed": true
   },
   "source": [
    "# PEP 0007 -- Style Guide for C Code\n",
    "\n",
    "This document gives coding conventions for the C code comprising the C implementation of Python\n",
    "\n",
    "https://www.python.org/dev/peps/pep-0007/"
   ]
  },
  {
   "cell_type": "markdown",
   "metadata": {},
   "source": [
    "# Google Python Style Guide\n",
    "\n",
    "<p>Every major open-source project has its own style guide: a set of conventions (sometimes arbitrary) about how to write code for that project. It is much easier to understand a large codebase when all the code in it is in a consistent style.\n",
    "\n",
    "<p>“Style” covers a lot of ground, from “use <b>camelCase</b> for variable names” to “never use global variables” to “never use exceptions.” This project holds the style guidelines we use for Google code. If you are modifying a project that originated at Google, you may be pointed to this page to see the style guides that apply to that project.\n",
    "\n",
    "\n",
    "<p>http://google.github.io/styleguide/pyguide.html\n",
    "\n",
    "<p>中文： https://github.com/zh-google-styleguide/zh-google-styleguide"
   ]
  },
  {
   "cell_type": "markdown",
   "metadata": {
    "collapsed": true
   },
   "source": [
    "# Python 2 to 3 code translation\n",
    "\n",
    "The Python Library Reference: <b>26.7 2to3 - Automated Python 2 to 3 code translation</b>\n",
    "\n",
    "2to3 is a Python program that reads Python 2.x source code and applies a series of fixers to transform it into valid\n",
    "Python 3.x code.\n",
    "\n",
    "2to3 will usually be installed with the Python interpreter as a script. It is also located in the Tools/scripts\n",
    "directory of the Python root.\n",
    "\n",
    "Here is a sample Python 2.x source file, example.py, It can be converted to Python 3.x code via 2to3 on the command line:\n",
    "\n",
    "<b>python C:/Python35/Tools/Scripts/2to3.py -w example.py</b>"
   ]
  },
  {
   "cell_type": "code",
   "execution_count": null,
   "metadata": {
    "collapsed": true
   },
   "outputs": [],
   "source": []
  }
 ],
 "metadata": {
  "kernelspec": {
   "display_name": "Python 3",
   "language": "python",
   "name": "python3"
  },
  "language_info": {
   "codemirror_mode": {
    "name": "ipython",
    "version": 3
   },
   "file_extension": ".py",
   "mimetype": "text/x-python",
   "name": "python",
   "nbconvert_exporter": "python",
   "pygments_lexer": "ipython3",
   "version": "3.5.1"
  }
 },
 "nbformat": 4,
 "nbformat_minor": 0
}

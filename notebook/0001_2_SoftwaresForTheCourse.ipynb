{
 "cells": [
  {
   "cell_type": "markdown",
   "metadata": {},
   "source": [
    "# Softwares for the Course"
   ]
  },
  {
   "cell_type": "markdown",
   "metadata": {},
   "source": [
    "The course is offered through Github\n",
    "<ol>  \n",
    "  <li>we will use the Python programming language and Scientic Computing package.</li>\n",
    "  <li>We also use IF97 Library developed by ourself to solve problems in the fields of thermal power engineering.</li>\n",
    "  <li>We will be using IDLE, IPython and Eclipse IDE as our development environment for writing and debugging our programs</li>\n",
    "  <li>We will use EGit and GitHub for revision control and source code management \n",
    "</ol> "
   ]
  },
  {
   "cell_type": "markdown",
   "metadata": {},
   "source": [
    "# 1 Python\n"
   ]
  },
  {
   "cell_type": "markdown",
   "metadata": {
    "collapsed": true
   },
   "source": [
    "<h3> 1) Python3 for Windows, Linux/UNIX, Mac OS X, Other... </h3>\n",
    "<p> https://www.python.org/downloads/\n",
    "<img src=\"./img/ch2.1_PythonShellAtIDLE.PNG\"/> \n"
   ]
  },
  {
   "cell_type": "markdown",
   "metadata": {},
   "source": [
    "<h3>2) QPython - Python on Android: <h3> http://qpython.com/\n",
    "<img src=\"./img/@002_QPython.PNG\"/> "
   ]
  },
  {
   "cell_type": "markdown",
   "metadata": {},
   "source": [
    "<h3>3)Python for iOS: </h3> http://pythonforios.com/\n",
    "<img src=\"./img/@002_PythonIOS.PNG\"/> \n",
    "        \n",
    "        \n"
   ]
  },
  {
   "cell_type": "markdown",
   "metadata": {},
   "source": [
    "# 2 Scientic Computing package \n",
    "<h3>Scientic Computing package for Python</h3>\n",
    "<p>http://www.scipy.org/install.html\n",
    " <ul>\n",
    "   <li>numpy\n",
    "   <li>scipy\n",
    "   <li>matplotlib\n",
    "</ul>   \n",
    "<h3>Jupyter: Open source, interactive data science and scientific computing </h3> \n",
    "<p> http://jupyter.org/\n",
    "<p> http://jupyter.readthedocs.org/en/latest/install.html\n",
    "<h3>IF97 Library</h3>\n",
    "<p>IF97 Library @ SEU https://github.com/Py03013052/SEUIF97\n",
    "# Unofficial Windows Binaries for Python Extension Packages\n",
    "by Christoph Gohlke, Laboratory for Fluorescence Dynamics, University of California, Irvine.\n",
    "<p>http://www.lfd.uci.edu/~gohlke/pythonlibs/\n"
   ]
  },
  {
   "cell_type": "markdown",
   "metadata": {},
   "source": [
    "# 3 Integrated Development Environment\n",
    "<ul>\n",
    "<li><b>Eclipse+Pydev: </b> Eclipse: http://www.eclipse.org/, Pydev: http://pydev.org/\n",
    "<li><b>Visual Studio 2015: </b>  https://www.visualstudio.com/zh-cn/visual-studio-homepage-vs.aspx\n",
    "<li><b>Canopy:</b> https://store.enthought.com/downloads/,   Easy Python Deployment Plus Integrated Analysis Environment for Scientific Computing, Data Analysis and Engineering \n",
    "</ul>"
   ]
  },
  {
   "cell_type": "markdown",
   "metadata": {},
   "source": [
    "# 4 Revision Control and Source Code Management\n",
    "\n",
    "<p><b>Git</b> is a widely used version control system for software development.It is a distributed revision control system with an emphasis on speed,[6] data integrity, and support for distributed, non-linear workflows.\n",
    "Git was initially designed and developed by Linus Torvalds for Linux kernel development in 2005.\n",
    "\n",
    "<p><b>GitHub</b> is a Web-based Git repository hosting service. It offers all of the distributed revision control and source code management (SCM) functionality of Git as well as adding its own features.\n",
    "<p><b>GitHub</b> offers both plans for private repositories and free accounts,which are usually used to host open-source software projects.As of 2015, GitHub reports having over 9 million users and over 21.1 million repositories, making it the largest host of source code in the world.\n",
    "\n",
    "<p><b>EGit</b> is the Git integration for the Eclipse IDE \n",
    "\n",
    "<p><b>EGit:</b> http://www.eclipse.org/egit/\n",
    "\n",
    "<p><b>Github:</b> https://github.com/\n"
   ]
  },
  {
   "cell_type": "markdown",
   "metadata": {
    "collapsed": true
   },
   "source": [
    "# 5 Referencec\n",
    "\n",
    "<ol>\n",
    "<li> Brainwy Software Ltd.  PyDev Manual. http://www.pydev.org/manual_101_root.html\n",
    "<li>郑伟芳. PyDev for Eclipse简介. http://www.ibm.com/developerworks/cn/opensource/os-cn-ecl-pydev/.2008.11\n",
    "<li>张颖. Python代码调试技巧. http://www.ibm.com/developerworks/cn/linux/l-cn-pythondebugger/,2012.05 \n",
    "<li>Scott Chacon and Ben Straub. Pro Git.  http://git-scm.com/book/en/v2\n",
    "<li>Maximilian Koegel,Jonas Helming  EGit Toturial http://eclipsesource.com/blogs/tutorials/egit-tutorial/. 2015.02\n",
    "<li>廖雪峰. http://www.liaoxuefeng.com/wiki/0013739516305929606dd18361248578c67b8067c8c017b000\n",
    "<li>知乎：怎样使用GitHub. http://www.zhihu.com/question/20070065\n",
    "</ol>\n"
   ]
  },
  {
   "cell_type": "code",
   "execution_count": null,
   "metadata": {
    "collapsed": true
   },
   "outputs": [],
   "source": []
  }
 ],
 "metadata": {
  "kernelspec": {
   "display_name": "Python 3",
   "language": "python",
   "name": "python3"
  },
  "language_info": {
   "codemirror_mode": {
    "name": "ipython",
    "version": 3
   },
   "file_extension": ".py",
   "mimetype": "text/x-python",
   "name": "python",
   "nbconvert_exporter": "python",
   "pygments_lexer": "ipython3",
   "version": "3.5.1"
  }
 },
 "nbformat": 4,
 "nbformat_minor": 0
}

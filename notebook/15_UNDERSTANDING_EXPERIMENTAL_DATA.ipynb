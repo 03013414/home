{
 "cells": [
  {
   "cell_type": "markdown",
   "metadata": {},
   "source": [
    "# 15 UNDERSTANDING EXPERIMENTAL DATA"
   ]
  },
  {
   "cell_type": "markdown",
   "metadata": {},
   "source": [
    "This chapter is all about <b>understanding experimental data</b>. \n",
    "\n",
    "We will make extensive use of plotting to visualize the data, and will return to the topic of what is and what is not a valid statistical conclusion. We will also talk about the interplay between physical and computational experiments."
   ]
  },
  {
   "cell_type": "markdown",
   "metadata": {},
   "source": [
    "## 15.1 The Behavior of Springs\n",
    "\n",
    "Springs are wonderful things. \n",
    "\n",
    "In 1676 the British physicist Robert Hooke formulated <b>Hooke’s law</b> of elasticity: Ut tensio, sic vis, in English,\n",
    "\n",
    "$F = -kx$\n",
    "\n",
    "All springs have an <b>elastic limit</b>, beyond which the law fails. \n",
    "\n",
    "The constant of proportionality, $k$, is called <b>the spring constant</b>.\n",
    "\n",
    "Knowing the <b>spring constant</b> of a particular spring can be <b>a matter of some import</b>\n",
    "\n",
    "Generations of physics students have learned to estimate spring constants using an experimental apparatus similar to that pictured here. \n",
    "\n",
    "The basic idea is toestimate the force stored in the spring by <b>measuring the displacement caused by exerting a known force on the spring</b>.\n",
    "\n",
    "<img src=\"./img/spring.PNG\"/> "
   ]
  },
  {
   "cell_type": "markdown",
   "metadata": {
    "collapsed": true
   },
   "source": [
    "The difference between the two distances then becomes the value of <b>x</b> in Hooke’s law.\n",
    "\n",
    "We know that the force, <b>F</b>, being exerted on the spring is equal to the mass, <b>m</b>, multiplied by the acceleration due to gravity, <b>g</b> (9.81 m/s2 is a pretty good approximation of g on this planet), \n",
    "so we substitute <b>m*g for F</b>. \n",
    "\n",
    "By simple algebra,we know that <b>k</b>:\n",
    "\n",
    "$k = -\\frac{m*g}{x}$\n",
    "\n",
    "#### robust experiment\n",
    "\n",
    "A more <b>robust experiment</b> is to hang <b>a series of increasingly heavier weights</b> on the spring, measure the stretch of the spring each time, and plot the results.\n",
    "\n",
    "We ran such an experiment,and typed the results into a file named `springData.txt`:\n",
    "\n",
    "```\n",
    "Distance (m) Mass (kg)\n",
    "0.0865 0.1\n",
    "0.1015 0.15\n",
    "…\n",
    "0.4416 0.9\n",
    "0.4304 0.95\n",
    "0.437 1.0\n",
    "```\n",
    "\n",
    "The function in Figure 15.1 reads data from a file such as the one we saved, and\n",
    "returns lists containing the distances and masses  \n",
    "\n",
    "Extracting the data from a file\n"
   ]
  },
  {
   "cell_type": "code",
   "execution_count": 2,
   "metadata": {
    "collapsed": true
   },
   "outputs": [],
   "source": [
    "#Page 209, Figure 15.1\n",
    "def getData(fileName):\n",
    "    dataFile = open(fileName, 'r')\n",
    "   \n",
    "    distances = []\n",
    "    masses = []\n",
    "    \n",
    "    discardHeader = dataFile.readline()  #  Distance (m) Mass (kg)\n",
    "   \n",
    "    for line in dataFile:\n",
    "        d, m = line.split(' ')  #  0.0865 0.1\n",
    "       \n",
    "        distances.append(float(d))\n",
    "        masses.append(float(m))\n",
    "    \n",
    "    dataFile.close()\n",
    "    return (masses, distances)"
   ]
  },
  {
   "cell_type": "markdown",
   "metadata": {
    "collapsed": true
   },
   "source": [
    "The function in Figure 15.2 uses getData to extract the experimental data from  the file and then plots it.\n",
    "\n",
    "Plotting the data"
   ]
  },
  {
   "cell_type": "code",
   "execution_count": 3,
   "metadata": {
    "collapsed": false
   },
   "outputs": [
    {
     "data": {
      "image/png": "[encoded data removed]",
      "text/plain": [
       "<matplotlib.figure.Figure at 0x286af71a160>"
      ]
     },
     "metadata": {},
     "output_type": "display_data"
    }
   ],
   "source": [
    "%matplotlib inline\n",
    "import pylab\n",
    "#Page 209, Figure 15.2\n",
    "def plotData(inputFile):\n",
    "    \n",
    "    masses, distances = getData(inputFile)\n",
    "    \n",
    "    masses = pylab.array(masses)\n",
    "    distances = pylab.array(distances)\n",
    "    forces = masses*9.81\n",
    "    \n",
    "    pylab.plot(forces, distances, 'bo',\n",
    "               label = 'Measured displacements')\n",
    "    pylab.title('Measured Displacement of Spring')\n",
    "    pylab.xlabel('|Force| (Newtons)')\n",
    "    pylab.ylabel('Distance (meters)')\n",
    "    \n",
    "plotData('./src/springData.txt')"
   ]
  },
  {
   "cell_type": "markdown",
   "metadata": {},
   "source": [
    "This is not what Hooke’s law predicts\n",
    "\n",
    "Measurement error is to be expected, so we should expect the points to lie around a line rather than on it.\n",
    "\n",
    "It would be nice to see a line that represents <b>our best guess</b> of where the points would have been <b>if we had no measurement error</b>. \n",
    "\n",
    "This is to <b>fit a line to the data</b>.\n",
    "\n"
   ]
  },
  {
   "cell_type": "markdown",
   "metadata": {},
   "source": [
    "### 15.1.1 Using Linear Regression to Find a Fit\n",
    "\n",
    "<b>Objective function</b> provides a quantitative assessment of how well the curve fits the data.\n",
    "\n",
    "The most commonly used objective function is called <b>least squares</b>,The objective function is then defined as\n",
    "\n",
    "$\\sum_{i=0}^{len(observed)-1}(observed[i]-predicted[i])^2$\n",
    "\n",
    "`PyLab` provides a built-in function, `polyfit`, that finds the best least-squares fit.\n",
    "```python\n",
    "pylab.polyfit(observedXVals, observedYVals, n)\n",
    "\n",
    "pylab.polyfit(observedXVals, observedYVals, 1) # y = ax + b\n",
    "\n",
    "pylab.polyfit(observedXVals, observedYVals, 2) # y = ax^2 + bx+c\n",
    "```\n",
    "The algorithm used by polyfit is called <b>linear regression</b>.\n",
    "\n",
    "The function fitData in Figure 15.3 extends the `plotData` function in Figure 15.2 by adding a line that represents the best fit for the data.\n",
    "\n",
    "The function also computes the spring constant, `k`.\n",
    "\n",
    "There is an asymmetry in the way `forces` and `distance` are treated. \n",
    "\n",
    "The values in `forces` are treated as <b>independent</b>,and used to produce the values in <b>the dependent variable</b> `predictedDistances` (a prediction of the displacements produced by suspending the mass).\n"
   ]
  },
  {
   "cell_type": "code",
   "execution_count": 4,
   "metadata": {
    "collapsed": false
   },
   "outputs": [
    {
     "data": {
      "image/png": "[encoded data removed]",
      "text/plain": [
       "<matplotlib.figure.Figure at 0x286af7f0b00>"
      ]
     },
     "metadata": {},
     "output_type": "display_data"
    }
   ],
   "source": [
    "#Page 212, Figure 15.3\n",
    "def fitData(inputFile):\n",
    "    masses, distances = getData(inputFile)\n",
    "    distances = pylab.array(distances)\n",
    "    masses = pylab.array(masses)\n",
    "    forces = masses*9.81\n",
    "    pylab.plot(forces, distances, 'bo',\n",
    "               label = 'Measured displacements')\n",
    "    pylab.title('Measured Displacement of Spring')\n",
    "    pylab.xlabel('|Force| (Newtons)')\n",
    "    pylab.ylabel('Distance (meters)')\n",
    "    \n",
    "    #find linear fit\n",
    "    a,b = pylab.polyfit(forces, distances, 1)\n",
    "    \n",
    "    predictedDistances = a*pylab.array(forces) + b\n",
    "    \n",
    "    # the spring constant, k\n",
    "    k = 1.0/a\n",
    "    \n",
    "    pylab.plot(forces, predictedDistances,\n",
    "               label = 'Displacements predicted by\\nlinear fit, k = '\n",
    "               + str(round(k, 5)))\n",
    "   \n",
    "    pylab.legend(loc = 'best')\n",
    "\n",
    "fitData('./src/springData.txt')\n",
    "    "
   ]
  },
  {
   "cell_type": "markdown",
   "metadata": {},
   "source": [
    "It is interesting to observe that <b>very few points</b> actually lie on the least-squares fit.\n",
    "\n",
    "It doesn’t look like a great fit. Let’s try a `cubic fit` by adding to `fitData`"
   ]
  },
  {
   "cell_type": "code",
   "execution_count": null,
   "metadata": {
    "collapsed": false
   },
   "outputs": [],
   "source": [
    "#Page 212, Figure 15.3\n",
    "def fitData(inputFile):\n",
    "    masses, distances = getData(inputFile)\n",
    "    distances = pylab.array(distances)\n",
    "    masses = pylab.array(masses)\n",
    "    forces = masses*9.81\n",
    "    pylab.plot(forces, distances, 'bo',\n",
    "               label = 'Measured displacements')\n",
    "    pylab.title('Measured Displacement of Spring')\n",
    "    pylab.xlabel('|Force| (Newtons)')\n",
    "    pylab.ylabel('Distance (meters)')\n",
    "    \n",
    "    #find linear fit\n",
    "    a,b = pylab.polyfit(forces, distances, 1)\n",
    "    predictedDistances = a*pylab.array(forces) + b\n",
    "    \n",
    "    # the spring constant, k\n",
    "    k = 1.0/a\n",
    "    \n",
    "    pylab.plot(forces, predictedDistances,\n",
    "               label = 'Displacements predicted by\\nlinear fit, k = '\n",
    "               + str(round(k, 5)))\n",
    "   \n",
    "    #add cubit fit\n",
    "  \n",
    "    a,b,c,d = pylab.polyfit(forces, distances, 3)\n",
    "    predictedDistances = a*(forces**3) + b*forces**2 + c*forces + d\n",
    "    pylab.plot(forces, predictedDistances, 'b:', label = 'cubic fit')\n",
    "\n",
    "    pylab.legend(loc = 'best')\n",
    "\n",
    "fitData('./src/springData.txt')\n",
    "    "
   ]
  },
  {
   "cell_type": "markdown",
   "metadata": {},
   "source": [
    "The cubic fit <b>looks like</b> a much better model of the data, but is it? <b>Probably not</b>.\n",
    "\n",
    "The <b>raw data</b> merely an indication of <b>experimental error</b>. This can be dangerous.\n",
    "\n",
    "Recall that we started with a theory that there should be <b>a linear relationship</b> between the x and y values, not\n",
    "a cubic one.\n",
    "\n",
    "Let’s see what happens if we use our cubic fit to predict where the point corresponding to <b>1.5kg</b> would lie.\n"
   ]
  },
  {
   "cell_type": "code",
   "execution_count": 5,
   "metadata": {
    "collapsed": false
   },
   "outputs": [
    {
     "data": {
      "image/png": "[encoded data removed]",
      "text/plain": [
       "<matplotlib.figure.Figure at 0x286af645d68>"
      ]
     },
     "metadata": {},
     "output_type": "display_data"
    }
   ],
   "source": [
    "#Page 212, Figure 15.3\n",
    "%matplotlib inline\n",
    "import pylab\n",
    "def fitData(inputFile):\n",
    "    masses, distances = getData(inputFile)\n",
    "   \n",
    "    # predict where the point corresponding to 1.5kg would lie  \n",
    "    outsidepoints=[1.1,1.2,1.3,1.4,1.5]\n",
    "    masses=masses+outsidepoints\n",
    "    \n",
    "    distances = pylab.array(distances)\n",
    "    masses = pylab.array(masses)\n",
    "    \n",
    "    forces = masses*9.81\n",
    "    pylab.plot(forces[:-5], distances, 'bo',\n",
    "               label = 'Measured displacements')\n",
    "    pylab.title('Measured Displacement of Spring')\n",
    "    pylab.xlabel('|Force| (Newtons)')\n",
    "    pylab.ylabel('Distance (meters)')\n",
    "    \n",
    "   \n",
    "    #add cubit fit\n",
    "    a,b,c,d = pylab.polyfit(forces[:-5], distances, 3)\n",
    "    \n",
    "    # predict where the point corresponding to 1.5kg would lie  \n",
    "    predictedDistances = a*(forces**3) + b*forces**2 + c*forces + d\n",
    "    pylab.plot(forces, predictedDistances, 'b:', label = 'cubic fit')\n",
    "\n",
    "    pylab.legend(loc = 'best')\n",
    "\n",
    "fitData('./src/springData.txt')\n",
    "    "
   ]
  },
  {
   "cell_type": "markdown",
   "metadata": {},
   "source": [
    "we have is an example of <b>overfitting</b>.\n",
    "\n",
    "we recall that <b>Hooke’s law</b> holds only up to some <b>elastic limit</b>. Perhaps that limit is reached for this spring somewhere around <b>7N</b> (approximately 0.7kg).\n",
    "\n",
    "Let’s see what happens if we eliminate the last six points by replacing the second and third lines of fitData by\n",
    "\n",
    "```python\n",
    "distances = pylab.array(distances[:-6])\n",
    "masses = pylab.array(masses[:-6])\n",
    "```\n"
   ]
  },
  {
   "cell_type": "code",
   "execution_count": null,
   "metadata": {
    "collapsed": false
   },
   "outputs": [],
   "source": [
    "#Page 212, Figure 15.3\n",
    "def fitData(inputFile):\n",
    "    masses, distances = getData(inputFile)\n",
    "    \n",
    "    # we eliminate the last six points\n",
    "    distances = pylab.array(distances[:-6])\n",
    "    masses = pylab.array(masses[:-6])\n",
    "        \n",
    "    forces = masses*9.81\n",
    "    pylab.plot(forces, distances, 'bo',\n",
    "               label = 'Measured displacements')\n",
    "    pylab.title('Measured Displacement of Spring')\n",
    "    pylab.xlabel('|Force| (Newtons)')\n",
    "    pylab.ylabel('Distance (meters)')\n",
    "    \n",
    "    #find linear fit\n",
    "    a,b = pylab.polyfit(forces, distances, 1)\n",
    "    predictedDistances = a*pylab.array(forces) + b\n",
    "    \n",
    "    # the spring constant, k\n",
    "    k = 1.0/a\n",
    "    \n",
    "    pylab.plot(forces, predictedDistances,\n",
    "               label = 'Displacements predicted by\\nlinear fit, k = '\n",
    "               + str(round(k, 5)))\n",
    "   \n",
    "    #add cubit fit\n",
    "  \n",
    "    a,b,c,d = pylab.polyfit(forces, distances, 3)\n",
    "    predictedDistances = a*(forces**3) + b*forces**2 + c*forces + d\n",
    "    pylab.plot(forces, predictedDistances, 'r:', label = 'cubic fit')\n",
    "\n",
    "    pylab.legend(loc = 'best')\n",
    "\n",
    "fitData('./src/springData.txt')"
   ]
  },
  {
   "cell_type": "markdown",
   "metadata": {},
   "source": [
    "Eliminating those points certainly makes a <b>difference</b>, e.g., k has dropped dramatically and the linear and cubic fits are almost  <b>indistinguishable</b>. \n",
    "\n",
    "But how do we know which of the two linear fits is a better representation of how our spring performs up to its elastic limit? \n",
    "\n",
    "One should never throw out experimental results <b>merely to get a better fit</b>. \n"
   ]
  },
  {
   "cell_type": "markdown",
   "metadata": {},
   "source": [
    "## 15.2 The Behavior of Projectiles"
   ]
  },
  {
   "cell_type": "markdown",
   "metadata": {
    "collapsed": true
   },
   "source": [
    "We decided to use one of our springs to build a device capable of launching a projectile.\n",
    "\n",
    "We measured <b>the height of the projectile at various distances from the launch point</b>.\n",
    "\n",
    "The data was stored in a file with the contents\n",
    "\n",
    "```\n",
    "      Distance trial1  trial2 trial3  trial4\n",
    "      1080     0        0      0       0\n",
    "      1044     2.25     3.25   4.5     6.5\n",
    "      \n",
    "      \n",
    "      0        0        0       0       0\n",
    "```\n",
    "The code in Figure 15.4 was used to plot the mean altitude of the projectile against the distance from the point of launch. It also plots the best linear and quadratic fits to the points."
   ]
  },
  {
   "cell_type": "code",
   "execution_count": 6,
   "metadata": {
    "collapsed": false
   },
   "outputs": [
    {
     "data": {
      "image/png": "[encoded data removed]",
      "text/plain": [
       "<matplotlib.figure.Figure at 0x286af702198>"
      ]
     },
     "metadata": {},
     "output_type": "display_data"
    }
   ],
   "source": [
    "#Page 215, Figure 15.4\n",
    "%matplotlib inline\n",
    "import pylab\n",
    "def getTrajectoryData(fileName):\n",
    "    dataFile = open(fileName, 'r')\n",
    "    distances = []\n",
    "    heights1, heights2, heights3, heights4 = [],[],[],[]\n",
    "    discardHeader = dataFile.readline()\n",
    "    for line in dataFile:\n",
    "        d, h1, h2, h3, h4 = line.split()\n",
    "        distances.append(float(d))\n",
    "        heights1.append(float(h1))\n",
    "        heights2.append(float(h2))\n",
    "        heights3.append(float(h3))\n",
    "        heights4.append(float(h4))\n",
    "    dataFile.close()\n",
    "    return (distances, [heights1, heights2, heights3, heights4])\n",
    "\n",
    "def processTrajectories(fileName):\n",
    "    distances, heights = getTrajectoryData(fileName)\n",
    "    numTrials = len(heights)\n",
    "    distances = pylab.array(distances)\n",
    "    #Get array containing mean height at each distance\n",
    "    totHeights = pylab.array([0]*len(distances))\n",
    "    for h in heights:\n",
    "        totHeights = totHeights + pylab.array(h)\n",
    "    meanHeights = totHeights/len(heights)\n",
    "    pylab.title('Trajectory of Projectile (Mean of '\\\n",
    "                + str(numTrials) + ' Trials)')\n",
    "    pylab.xlabel('Inches from Launch Point')\n",
    "    pylab.ylabel('Inches Above Launch Point')\n",
    "    pylab.plot(distances, meanHeights, 'bo')\n",
    "    a,b = pylab.polyfit(distances, meanHeights, 1)\n",
    "    altitudes = a*distances + b\n",
    "    pylab.plot(distances, altitudes, 'b', label = 'Linear Fit')\n",
    "    a,b,c = pylab.polyfit(distances, meanHeights, 2)\n",
    "    altitudes = a*(distances**2) +  b*distances + c\n",
    "    pylab.plot(distances, altitudes, 'b:', label = 'Quadratic Fit')\n",
    "    pylab.legend()\n",
    "    \n",
    "processTrajectories('./src/projectileData.txt')"
   ]
  },
  {
   "cell_type": "markdown",
   "metadata": {},
   "source": [
    "A quick look at the plot on the right makes it quite clear that a quadratic fit is far better than a linear one\n",
    "\n",
    "#####  how bad a fit is the line and how good is the quadratic fit?"
   ]
  },
  {
   "cell_type": "markdown",
   "metadata": {},
   "source": [
    "### 15.2.1 Coefficient of Determination\n",
    "\n",
    "Asking about <b>the goodness of a fit</b> is equivalent to asking about the accuracy of these predictions.\n",
    "\n",
    "<b>The mean square error</b> is useful for comparing the <b>relative goodness</b> of two fits to the same data, it is <b>not particularly useful for getting a sense of the absolute goodness of a fit</b>.\n",
    "\n",
    "We can calculate <b>the absolute goodness of a fit</b> using the <b>coefficient of determination</b>, often written as $R^2$\n",
    "\n",
    "Let $y_i$ be the $i^{th}$ observed value, $p_i$ be the corresponding value predicted by model, and $\\mu$ be the mean of the observed values.\n",
    "\n",
    "$R^2=1-\\frac{\\sum_{i}(y_i-p_i)^2}{\\sum_{i}(y_i-\\mu)^2}$\n",
    "\n",
    "By comparing <b>the estimation errors</b> (<b>RSS: residual sum of squares</b>,the numerator) with <b>the variability of the original values</b> ( <b>TSS: total sum of squares</b>,the denominator), $R^2$ is intended to capture <b>the proportion of variability </b> in a data set that is accounted for by the statistical model provided by the fit.\n",
    "\n",
    "Its <b>compactness</b> stems from the expressiveness of the operations on <b>arrays</b>."
   ]
  },
  {
   "cell_type": "code",
   "execution_count": 8,
   "metadata": {
    "collapsed": true
   },
   "outputs": [],
   "source": [
    "#Page 216, Figure 15.5\n",
    "def rSquared(measured, predicted):\n",
    "    \"\"\"Assumes measured a one-dimensional array of measured values\n",
    "               predicted a one-dimensional array of predicted values\n",
    "       Returns coefficient of determination\"\"\"\n",
    "    # RSS: residual sum of squares\n",
    "    estimateError = ((predicted - measured)**2).sum()\n",
    "    \n",
    "    meanOfMeasured = measured.sum()/float(len(measured))\n",
    "    \n",
    "    # TSS: total sum of squares\n",
    "    variability = ((measured - meanOfMeasured)**2).sum()\n",
    "    return 1 - estimateError/variability"
   ]
  },
  {
   "cell_type": "code",
   "execution_count": 9,
   "metadata": {
    "collapsed": false
   },
   "outputs": [
    {
     "data": {
      "image/png": "[encoded data removed]",
      "text/plain": [
       "<matplotlib.figure.Figure at 0x286afa7fef0>"
      ]
     },
     "metadata": {},
     "output_type": "display_data"
    }
   ],
   "source": [
    "#Page 215, Figure 15.4\n",
    "%matplotlib inline\n",
    "import pylab\n",
    "def getTrajectoryData(fileName):\n",
    "    dataFile = open(fileName, 'r')\n",
    "    distances = []\n",
    "    heights1, heights2, heights3, heights4 = [],[],[],[]\n",
    "    discardHeader = dataFile.readline()\n",
    "    for line in dataFile:\n",
    "        d, h1, h2, h3, h4 = line.split()\n",
    "        distances.append(float(d))\n",
    "        heights1.append(float(h1))\n",
    "        heights2.append(float(h2))\n",
    "        heights3.append(float(h3))\n",
    "        heights4.append(float(h4))\n",
    "    dataFile.close()\n",
    "    return (distances, [heights1, heights2, heights3, heights4])\n",
    "\n",
    "def processTrajectories(fileName):\n",
    "    distances, heights = getTrajectoryData(fileName)\n",
    "    numTrials = len(heights)\n",
    "    distances = pylab.array(distances)\n",
    "    #Get array containing mean height at each distance\n",
    "    totHeights = pylab.array([0]*len(distances))\n",
    "    for h in heights:\n",
    "        totHeights = totHeights + pylab.array(h)\n",
    "    meanHeights = totHeights/len(heights)\n",
    "    pylab.title('Trajectory of Projectile (Mean of '\\\n",
    "                + str(numTrials) + ' Trials)')\n",
    "    pylab.xlabel('Inches from Launch Point')\n",
    "    pylab.ylabel('Inches Above Launch Point')\n",
    "    pylab.plot(distances, meanHeights, 'bo')\n",
    "    a,b = pylab.polyfit(distances, meanHeights, 1)\n",
    "    altitudes = a*distances + b\n",
    "    \n",
    "    r2linear=rSquared(meanHeights, altitudes)\n",
    "        \n",
    "    pylab.plot(distances, altitudes, 'b', label = 'Linear Fit, $R^2$='+str(r2linear))\n",
    "    \n",
    "    a,b,c = pylab.polyfit(distances, meanHeights, 2)\n",
    "    altitudes = a*(distances**2) +  b*distances + c\n",
    "    \n",
    "    r2quad=rSquared(meanHeights, altitudes)\n",
    "        \n",
    "    pylab.plot(distances, altitudes, 'b:', label = 'Quadratic Fit, $R^2$='+str(r2quad))\n",
    "    \n",
    "    pylab.legend()\n",
    "    \n",
    "processTrajectories('./src/projectileData.txt')"
   ]
  },
  {
   "cell_type": "markdown",
   "metadata": {},
   "source": [
    "This tells us that \n",
    "\n",
    "1 less than 2% of the variation in the measured data can be explained by the linear model,\n",
    "\n",
    "2 ore than 98% of the  variation can be explained by the quadratic model"
   ]
  },
  {
   "cell_type": "markdown",
   "metadata": {
    "collapsed": true
   },
   "source": [
    "### 15.2.2 Using a Computational Mode\n",
    "\n",
    "One interesting question is <b>the horizontal speed</b> at which the projectile is traveling when it hits the target. \n",
    "\n",
    "We might use the following train of thought to design <b>a computation</b> that answers this question:\n",
    "    \n",
    "\n",
    "1 Its <b>peak</b> occurs halfway  between the launch point and the target; call this value $xMid$. \n",
    "The peak height, \n",
    "\n",
    " $yPeak=a*xMid^2+b*xMid+c$\n",
    " \n",
    "2  we can compute <b>the amount of time</b> it takes for the projectile to <b>fall from $yPeak$ to\n",
    "the height of the target</b>, because that is purely a function of gravity. It is  given by the equation:\n",
    "\n",
    "$t=\\sqrt{\\frac{2*yPeak}{g}}$\n",
    "\n",
    "https://en.wikipedia.org/wiki/Equations_for_a_falling_body\n",
    "\n",
    "3 Given the time to go from $xMid$ to the target, we can easily compute the average horizontal speed of the projectile over that interval. \n",
    "we can use the average horizontal speed as an estimate of the horizontal speed when the projectile hits the target\n",
    "  "
   ]
  },
  {
   "cell_type": "code",
   "execution_count": 11,
   "metadata": {
    "collapsed": true
   },
   "outputs": [],
   "source": [
    "#Page 218, Figure 15.6\n",
    "def getHorizontalSpeed(a, b, c, minX, maxX):\n",
    "    \"\"\"Assumes minX and maxX are distances in inches\n",
    "       Returns horizontal speed in feet per second\"\"\"\n",
    "    inchesPerFoot = 12.0\n",
    "    \n",
    "    xMid = (maxX - minX)/2.0\n",
    "    yPeak = a*xMid**2 + b*xMid + c\n",
    "    \n",
    "    g = 32.16*inchesPerFoot #accel. of gravity in inches/sec/sec\n",
    "    \n",
    "    t = (2*yPeak/g)**0.5\n",
    "    print('Horizontal speed =', int(xMid/(t*inchesPerFoot)), 'feet/sec')\n"
   ]
  },
  {
   "cell_type": "code",
   "execution_count": 12,
   "metadata": {
    "collapsed": false
   },
   "outputs": [
    {
     "name": "stdout",
     "output_type": "stream",
     "text": [
      "Horizontal speed = 136 feet/sec\n"
     ]
    },
    {
     "data": {
      "image/png": "[encoded data removed]",
      "text/plain": [
       "<matplotlib.figure.Figure at 0x286af8d7f98>"
      ]
     },
     "metadata": {},
     "output_type": "display_data"
    }
   ],
   "source": [
    "#Page 215, Figure 15.4\n",
    "%matplotlib inline\n",
    "import pylab\n",
    "def getTrajectoryData(fileName):\n",
    "    dataFile = open(fileName, 'r')\n",
    "    distances = []\n",
    "    heights1, heights2, heights3, heights4 = [],[],[],[]\n",
    "    discardHeader = dataFile.readline()\n",
    "    for line in dataFile:\n",
    "        d, h1, h2, h3, h4 = line.split()\n",
    "        distances.append(float(d))\n",
    "        heights1.append(float(h1))\n",
    "        heights2.append(float(h2))\n",
    "        heights3.append(float(h3))\n",
    "        heights4.append(float(h4))\n",
    "    dataFile.close()\n",
    "    return (distances, [heights1, heights2, heights3, heights4])\n",
    "\n",
    "def processTrajectories(fileName):\n",
    "    distances, heights = getTrajectoryData(fileName)\n",
    "    numTrials = len(heights)\n",
    "    distances = pylab.array(distances)\n",
    "    #Get array containing mean height at each distance\n",
    "    totHeights = pylab.array([0]*len(distances))\n",
    "    for h in heights:\n",
    "        totHeights = totHeights + pylab.array(h)\n",
    "    meanHeights = totHeights/len(heights)\n",
    "    pylab.title('Trajectory of Projectile (Mean of '\\\n",
    "                + str(numTrials) + ' Trials)')\n",
    "    pylab.xlabel('Inches from Launch Point')\n",
    "    pylab.ylabel('Inches Above Launch Point')\n",
    "    pylab.plot(distances, meanHeights, 'bo')\n",
    "    a,b = pylab.polyfit(distances, meanHeights, 1)\n",
    "    altitudes = a*distances + b\n",
    "    \n",
    "    r2linear=rSquared(meanHeights, altitudes)\n",
    "        \n",
    "    pylab.plot(distances, altitudes, 'b', label = 'Linear Fit, $R^2$='+str(r2linear))\n",
    "    \n",
    "    a,b,c = pylab.polyfit(distances, meanHeights, 2)\n",
    "    altitudes = a*(distances**2) +  b*distances + c\n",
    "    \n",
    "    r2quad=rSquared(meanHeights, altitudes)\n",
    "        \n",
    "    pylab.plot(distances, altitudes, 'b:', label = 'Quadratic Fit, $R^2$='+str(r2quad))\n",
    "    \n",
    "    pylab.legend()\n",
    "    \n",
    "    getHorizontalSpeed(a, b, c, distances[-1],distances[0])\n",
    "    \n",
    "processTrajectories('./src/projectileData.txt')"
   ]
  },
  {
   "cell_type": "markdown",
   "metadata": {},
   "source": [
    "The sequence of steps we have just worked through follows <b>a common pattern</b> \n",
    "\n",
    "1.  We started by performing <b>an experiment</b> to get some data about <b>the behavior</b> of a physical system.\n",
    "\n",
    "2. We then used computation to <b>find</b> and <b>evaluate</b> the quality of <b>a model</b> of the behavior of the system.\n",
    "\n",
    "3. Finally, we used some <b>theory and analysis</b> to design a simple <b>computation</b> to derive an interesting <b>consequence of the model</b>."
   ]
  },
  {
   "cell_type": "markdown",
   "metadata": {},
   "source": [
    "## 15.3 Fitting Exponentially Distributed Data \n",
    "\n",
    "Polyfit uses linear regression to find a polynomial of a given degree that is the best least-squares fit for some data. \n",
    "\n",
    "But this is not always possible. Consider, for example, the simple <b>exponential growth function</b> $y = 2^x$.\n",
    "\n",
    "The code in Figure 15.7 fits a 4th-degree polynomial to the first ten points and plots the results."
   ]
  },
  {
   "cell_type": "code",
   "execution_count": null,
   "metadata": {
    "collapsed": false
   },
   "outputs": [],
   "source": [
    "#Page 218, Figure 15.7\n",
    "%matplotlib inline\n",
    "import pylab\n",
    "vals = []\n",
    "for i in range(10):\n",
    "    vals.append(2**i)\n",
    "pylab.plot(vals,'bo', label = 'Actual points')\n",
    "\n",
    "xVals = pylab.arange(10)\n",
    "a,b,c,d,e = pylab.polyfit(xVals, vals, 4)\n",
    "yVals = a*(xVals**4) + b*(xVals**3) + c*(xVals**2)+ d*xVals + e\n",
    "pylab.plot(yVals, 'bx', label = 'Predicted points', markersize = 20)\n",
    "pylab.title('Fitting $y = 2^x$')\n",
    "pylab.legend()\n"
   ]
  },
  {
   "cell_type": "markdown",
   "metadata": {},
   "source": [
    "The fit is clearly a good one, for these data points. However, let’s look at what  the model predicts for $2^{20}$"
   ]
  },
  {
   "cell_type": "code",
   "execution_count": null,
   "metadata": {
    "collapsed": false
   },
   "outputs": [],
   "source": [
    "pred2to20 = a*(20**4) + b*(20**3) + c*(20**2)+ d*20 + e\n",
    "print('Model predicts that 2**20 is roughly', round(pred2to20))\n",
    "print('Actual value of 2**20 is', 2**20)"
   ]
  },
  {
   "cell_type": "markdown",
   "metadata": {},
   "source": [
    "##### It is because no polynomial is a good fit for an exponential distribution.\n",
    "\n",
    "we can use polyfit to find a curve that fits the original independent values and the <b>log</b> of the dependent values\n",
    "\n",
    "If a function $y = f(x)$, exhibits exponential growth, the $log$ (to any base) of $f(x)$ grows linearly. \n",
    "\n",
    "This can be visualized by plotting an exponential function with a logarithmic y-axis."
   ]
  },
  {
   "cell_type": "code",
   "execution_count": null,
   "metadata": {
    "collapsed": false
   },
   "outputs": [],
   "source": [
    "xVals, yVals = [], []\n",
    "for i in range(10):\n",
    "    xVals.append(i)\n",
    "    yVals.append(2**i)\n",
    "pylab.plot(xVals, yVals)\n",
    "pylab.semilogy()"
   ]
  },
  {
   "cell_type": "markdown",
   "metadata": {},
   "source": [
    "The fact that taking <b>the log of an exponential function</b> produces <b>a linear function</b> can be used to construct a model for an exponentially distributed set of data points."
   ]
  },
  {
   "cell_type": "code",
   "execution_count": 13,
   "metadata": {
    "collapsed": false
   },
   "outputs": [
    {
     "name": "stdout",
     "output_type": "stream",
     "text": [
      "f(20) = 50331648.0\n",
      "Predicted f(20) = 50331648.0\n"
     ]
    },
    {
     "data": {
      "image/png": "[encoded data removed]",
      "text/plain": [
       "<matplotlib.figure.Figure at 0x286b014c240>"
      ]
     },
     "metadata": {},
     "output_type": "display_data"
    }
   ],
   "source": [
    "#Page 220, Figure 15.8\n",
    "import math\n",
    "\n",
    "#define an arbitrary exponential function\n",
    "def f(x):\n",
    "    return 3*(2**(1.2*x))\n",
    "\n",
    "def createExpData(f, xVals):\n",
    "    \"\"\"Asssumes f is an exponential function of one argument\n",
    "                xVals is an array of suitable arguments for f\n",
    "       Returns array containing results of applying f to the\n",
    "               elements of xVals\"\"\"\n",
    "    yVals = []\n",
    "    for i in range(len(xVals)):\n",
    "        yVals.append(f(xVals[i]))\n",
    "    return pylab.array(xVals), pylab.array(yVals)\n",
    "\n",
    "def fitExpData(xVals, yVals):\n",
    "    \"\"\"Assumes xVals and yVals arrays of numbers such that\n",
    "         yVals[i] == f(xVals[i])\n",
    "       Returns a, b, base such that log(f(x), base) == ax + b\"\"\"\n",
    "    logVals = []\n",
    "    for y in yVals:\n",
    "        logVals.append(math.log(y, 2.0)) #get log base 2\n",
    "    a,b = pylab.polyfit(xVals, logVals, 1)\n",
    "    return a, b, 2.0\n",
    "\n",
    "xVals, yVals = createExpData(f, range(10))\n",
    "pylab.plot(xVals, yVals, 'ro', label = 'Actual values')\n",
    "a, b, base = fitExpData(xVals, yVals)\n",
    "\n",
    "predictedYVals = []\n",
    "for x in xVals:\n",
    "    predictedYVals.append(base**(a*x + b))\n",
    "pylab.plot(xVals, predictedYVals, label = 'Predicted values')\n",
    "pylab.title('Fitting an Exponential Function')\n",
    "pylab.legend()\n",
    "\n",
    "#Look at a value for x not in original data\n",
    "print('f(20) =', f(20))\n",
    "print('Predicted f(20) =', base**(a*20 + b))\n"
   ]
  },
  {
   "cell_type": "markdown",
   "metadata": {},
   "source": [
    "This method of using `polyfit` to find a model for data works when the relationship can be described by an equation of the form:\n",
    "\n",
    "$y = base^{ax+b}$\n",
    "\n",
    " If used on  data that <b>cannot be described this way<b>, it will yield erroneous results"
   ]
  },
  {
   "cell_type": "code",
   "execution_count": 8,
   "metadata": {
    "collapsed": false
   },
   "outputs": [
    {
     "name": "stdout",
     "output_type": "stream",
     "text": [
      "f(20) = 50331668.0\n",
      "Predicted f(20) = 44846543.4909\n"
     ]
    },
    {
     "data": {
      "image/png": "[encoded data removed]",
      "text/plain": [
       "<matplotlib.figure.Figure at 0xeece10>"
      ]
     },
     "metadata": {},
     "output_type": "display_data"
    }
   ],
   "source": [
    "#define an arbitrary exponential function\n",
    "# cannot be described y=b^(ax+b)\n",
    "def f(x):\n",
    "    return 3*(2**(1.2*x))+x\n",
    "\n",
    "def createExpData(f, xVals):\n",
    "    \"\"\"Asssumes f is an exponential function of one argument\n",
    "                xVals is an array of suitable arguments for f\n",
    "       Returns array containing results of applying f to the\n",
    "               elements of xVals\"\"\"\n",
    "    yVals = []\n",
    "    for i in range(len(xVals)):\n",
    "        yVals.append(f(xVals[i]))\n",
    "    return pylab.array(xVals), pylab.array(yVals)\n",
    "\n",
    "def fitExpData(xVals, yVals):\n",
    "    \"\"\"Assumes xVals and yVals arrays of numbers such that\n",
    "         yVals[i] == f(xVals[i])\n",
    "       Returns a, b, base such that log(f(x), base) == ax + b\"\"\"\n",
    "    logVals = []\n",
    "    for y in yVals:\n",
    "        logVals.append(math.log(y, 2.0)) #get log base 2\n",
    "    a,b = pylab.polyfit(xVals, logVals, 1)\n",
    "    return a, b, 2.0\n",
    "\n",
    "xVals, yVals = createExpData(f, range(10))\n",
    "pylab.plot(xVals, yVals, 'ro', label = 'Actual values')\n",
    "a, b, base = fitExpData(xVals, yVals)\n",
    "\n",
    "predictedYVals = []\n",
    "for x in xVals:\n",
    "    predictedYVals.append(base**(a*x + b))\n",
    "pylab.plot(xVals, predictedYVals, label = 'Predicted values')\n",
    "pylab.title('Fitting an Exponential Function')\n",
    "pylab.legend(loc = 'best')\n",
    "\n",
    "#Look at a value for x not in original data\n",
    "print('f(20) =', f(20))\n",
    "print('Predicted f(20) =', base**(a*20 + b))"
   ]
  },
  {
   "cell_type": "markdown",
   "metadata": {},
   "source": [
    "## 15.4 When Theory Is Missing"
   ]
  },
  {
   "cell_type": "markdown",
   "metadata": {},
   "source": [
    "In an ideal world, we would run <b>a controlled experiment</b> (e.g., hang weights from a spring), study the results, and retrospectively formulate a model consistent\n",
    "with those results.\n",
    "\n",
    "Unfortunately, in many cases it is <b>impossible to run even one controlled experiment</b>\n",
    "\n",
    "In such situations, one can <b>simulate a set of experiments</b> by dividing the existing data into <b>a training set</b> and <b>a holdout set</b>.\n",
    "\n",
    "##### How does one choose the training set?\n",
    "\n",
    "1. One way to do this is to <b>randomly choose the samples</b> for the training set.\n",
    "\n",
    "2.  A related but slightly different way to check a model is to train on <b>many randomly selected subsets</b> of the original data, and see how similar the models are to one another. \n",
    "\n",
    "If they are quite similar, than we can feel pretty good. This  approach is known as <b>cross validation</b>. \n",
    "\n",
    "\n"
   ]
  }
 ],
 "metadata": {
  "kernelspec": {
   "display_name": "Python 3",
   "language": "python",
   "name": "python3"
  },
  "language_info": {
   "codemirror_mode": {
    "name": "ipython",
    "version": 3
   },
   "file_extension": ".py",
   "mimetype": "text/x-python",
   "name": "python",
   "nbconvert_exporter": "python",
   "pygments_lexer": "ipython3",
   "version": "3.5.1"
  }
 },
 "nbformat": 4,
 "nbformat_minor": 0
}

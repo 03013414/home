{
 "cells": [
  {
   "cell_type": "markdown",
   "metadata": {},
   "source": [
    "# 4 FUNCTIONS, SCOPING, AND ABSTRACTION\n",
    "So far, we have introduced numbers, assignments, input/output, comparisons,and looping constructs. How powerful is this subset of Python? In a theoretical sense, it is as powerful as you will ever need. Such languages are called Turing\n",
    "complete. This means that if a problem can be solved via computation, "
   ]
  },
  {
   "cell_type": "code",
   "execution_count": null,
   "metadata": {
    "collapsed": false
   },
   "outputs": [],
   "source": [
    "#Page 34, figure 4.1 - bisection\n",
    "x = 25\n",
    "epsilon = 0.01\n",
    "numGuesses = 0\n",
    "low = 0.0\n",
    "high = max(1.0, x)   # build-in function\n",
    "ans = (high + low)/2.0\n",
    "while abs(ans**2 - x) >= epsilon:\n",
    "    numGuesses += 1\n",
    "    if ans**2 < x:\n",
    "        low = ans\n",
    "    else:\n",
    "        high = ans\n",
    "    ans = (high + low)/2.0\n",
    "print('numGuesses =', numGuesses)\n",
    "print(ans, 'is close to square root of', x)"
   ]
  },
  {
   "cell_type": "markdown",
   "metadata": {},
   "source": [
    "This is a reasonable piece of code, but it lacks general utility. It works only for values denoted by the variables x and epsilon. This means that if we want to reuse it, we need to copy the code, possibly edit the variable names, and paste it where we want it.\n",
    "\n",
    "Python provides several linguistic features that make it relatively easy to <b style=\"color:blue\">generalize and reuse </b>code. The most important is the <b style=\"color:blue\">function</b>"
   ]
  },
  {
   "cell_type": "markdown",
   "metadata": {},
   "source": [
    "## 4.1 Functions and Scoping\n",
    "\n",
    "### 4.1.1 Function Definitions\n",
    "In Python each function definition is of the form：\n",
    "```python\n",
    "def nameoffunction (list_of_formal_parameters):\n",
    "                    body of function \n",
    "```"
   ]
  },
  {
   "cell_type": "code",
   "execution_count": 1,
   "metadata": {
    "collapsed": true
   },
   "outputs": [],
   "source": [
    "def fmax(x, y):    # max->fmax max: built-in function\n",
    "    if x > y:\n",
    "        return x\n",
    "    else:\n",
    "        return y   "
   ]
  },
  {
   "cell_type": "markdown",
   "metadata": {},
   "source": [
    "The sequence of names (x,y in this example) within the parentheses following the function name are the<b> formal parameters</b>of the function.\n",
    "\n",
    "When the function is used, the formal parameters are bound (as in an assignment statement) to the <b>actual parameters</b> (often referred to as arguments) of the function invocation (also referred to as a function call)."
   ]
  },
  {
   "cell_type": "code",
   "execution_count": 2,
   "metadata": {
    "collapsed": false
   },
   "outputs": [
    {
     "data": {
      "text/plain": [
       "4"
      ]
     },
     "execution_count": 2,
     "metadata": {},
     "output_type": "execute_result"
    }
   ],
   "source": [
    "fmax(3, 4)"
   ]
  },
  {
   "cell_type": "code",
   "execution_count": 12,
   "metadata": {
    "collapsed": false
   },
   "outputs": [],
   "source": [
    "def fmax():    # max->fmax max: built-in function\n",
    "    return(1)"
   ]
  },
  {
   "cell_type": "code",
   "execution_count": 13,
   "metadata": {
    "collapsed": false
   },
   "outputs": [],
   "source": [
    "a=fmax()"
   ]
  },
  {
   "cell_type": "code",
   "execution_count": 14,
   "metadata": {
    "collapsed": false
   },
   "outputs": [
    {
     "data": {
      "text/plain": [
       "1"
      ]
     },
     "execution_count": 14,
     "metadata": {},
     "output_type": "execute_result"
    }
   ],
   "source": [
    "a"
   ]
  },
  {
   "cell_type": "markdown",
   "metadata": {},
   "source": [
    "<b>Parameters</b> provide something called <b>lambda abstraction</b>, allowing programmers to write code that manipulates not specific objects, but instead whatever objects the caller of the function chooses to use as actual parameters.\n",
    "\n",
    "<p><b>The Python Language Reference ：6.13 Lambdas</b>"
   ]
  },
  {
   "cell_type": "code",
   "execution_count": 4,
   "metadata": {
    "collapsed": false
   },
   "outputs": [
    {
     "name": "stdout",
     "output_type": "stream",
     "text": [
      "9\n"
     ]
    }
   ],
   "source": [
    "adder = lambda x, y: x+y\n",
    "print(adder(3,6))"
   ]
  },
  {
   "cell_type": "markdown",
   "metadata": {
    "collapsed": true
   },
   "source": [
    "### 4.1.2 Keyword Arguments and Default Values\n",
    "\n",
    "In Python, there are <b>two ways</b> that formal parameters get bound to actual parameters.\n",
    "<p>\n",
    "The most common method, which is the only one we have used thus far, is called <b style=\"color:blue\">positional</b>—the first formal parameter is bound to the first actual parameter, the second formal to the second actual, etc.\n",
    "<p>Python also supports what it calls <b style=\"color:blue\">keyword arguments</b>, in which formals are bound to actuals using the name of the formal parameter."
   ]
  },
  {
   "cell_type": "code",
   "execution_count": 14,
   "metadata": {
    "collapsed": false
   },
   "outputs": [],
   "source": [
    "def printName(firstName, lastName, reverse):\n",
    "    if reverse:\n",
    "        print(lastName + ', ' + firstName)\n",
    "    else:\n",
    "        print(firstName, lastName)"
   ]
  },
  {
   "cell_type": "code",
   "execution_count": null,
   "metadata": {
    "collapsed": false
   },
   "outputs": [],
   "source": [
    "printName('Olga', 'Puchmajerova', False)   # positional\n",
    "printName('Olga', 'Puchmajerova', reverse = False)  # positional,keyword argument\n",
    "printName('Olga', lastName = 'Puchmajerova', reverse = False) # positional,keyword argument,keyword argument\n",
    "printName(lastName='Puchmajerova', firstName='Olga', reverse=False)# all keyword argument"
   ]
  },
  {
   "cell_type": "markdown",
   "metadata": {
    "collapsed": true
   },
   "source": [
    "the keyword arguments can appear in any order in the list of actual parameters, it is<b> not legal to follow a keyword argument with a non-keyword argument</b>."
   ]
  },
  {
   "cell_type": "code",
   "execution_count": 15,
   "metadata": {
    "collapsed": false
   },
   "outputs": [
    {
     "ename": "SyntaxError",
     "evalue": "non-keyword arg after keyword arg (<ipython-input-15-e0c05d107ddc>, line 1)",
     "output_type": "error",
     "traceback": [
      "\u001b[1;36m  File \u001b[1;32m\"<ipython-input-15-e0c05d107ddc>\"\u001b[1;36m, line \u001b[1;32m1\u001b[0m\n\u001b[1;33m    printName('Olga', lastName = 'Puchmajerova', False) # False : a non-keyword argument.\u001b[0m\n\u001b[1;37m                                                ^\u001b[0m\n\u001b[1;31mSyntaxError\u001b[0m\u001b[1;31m:\u001b[0m non-keyword arg after keyword arg\n"
     ]
    }
   ],
   "source": [
    "printName('Olga', lastName = 'Puchmajerova', False) # False : a non-keyword argument."
   ]
  },
  {
   "cell_type": "markdown",
   "metadata": {},
   "source": [
    "<b>Keyword arguments</b> are commonly used in conjunction with <b>default parameter values</b>. "
   ]
  },
  {
   "cell_type": "code",
   "execution_count": 3,
   "metadata": {
    "collapsed": false
   },
   "outputs": [],
   "source": [
    "def printName(firstName, lastName, reverse = False): # reverse = False: default parameter values\n",
    "    if reverse:\n",
    "        print(lastName + ', ' + firstName)\n",
    "    else:\n",
    "        print(firstName, lastName)"
   ]
  },
  {
   "cell_type": "code",
   "execution_count": 4,
   "metadata": {
    "collapsed": false
   },
   "outputs": [
    {
     "name": "stdout",
     "output_type": "stream",
     "text": [
      "Olga Puchmajerova\n",
      "Puchmajerova, Olga\n",
      "Puchmajerova, Olga\n"
     ]
    }
   ],
   "source": [
    "printName('Olga', 'Puchmajerova')  # reverse = False: default parameter values\n",
    "printName('Olga', 'Puchmajerova', True)  # positional\n",
    "printName('Olga', 'Puchmajerova', reverse = True) # keyword : providing some documentation about True "
   ]
  },
  {
   "cell_type": "markdown",
   "metadata": {},
   "source": [
    "The last two invocations of printName are semantically equivalent. The last one has <b>the advantage of providing some documentation </b>for the perhaps mysterious parameter True."
   ]
  },
  {
   "cell_type": "markdown",
   "metadata": {},
   "source": [
    "### 4.1.3 Scoping"
   ]
  },
  {
   "cell_type": "code",
   "execution_count": null,
   "metadata": {
    "collapsed": true
   },
   "outputs": [],
   "source": [
    "def f(x): # name x used as formal parameter\n",
    "    y = 1   # y local variable\n",
    "    x = x + y   # local name：x\n",
    "    print('x in f=', x)\n",
    "    return x"
   ]
  },
  {
   "cell_type": "code",
   "execution_count": null,
   "metadata": {
    "collapsed": false
   },
   "outputs": [],
   "source": [
    "x = 3\n",
    "y = 2\n",
    "z = f(x) #value of x used as actual parameter\n",
    "print('z =', z)\n",
    "print('x =', x)\n",
    "print('y =', y)"
   ]
  },
  {
   "cell_type": "markdown",
   "metadata": {},
   "source": [
    "<p>Each function defines <b>a new name space</b>, also called <b>a scope</b>.\n",
    "\n",
    "<p>Here’s one way to think about this:\n",
    "<ul>\n",
    "<li><b>At top level</b>: a symbol table-> all names defined at that level and their current bindings.\n",
    "<li>When <b>a function is called</b>, a new symbol table( a <b>stack frame</b>) is created.\n",
    "    all names defined within the  function (including the formal parameters) and their current bindings. \n",
    "<li>When the <b>function completes</b>, its <b>stack frame goes away</b>.\n",
    "</ul>"
   ]
  },
  {
   "cell_type": "code",
   "execution_count": 10,
   "metadata": {
    "collapsed": true
   },
   "outputs": [],
   "source": [
    "def f(x):\n",
    "   \n",
    "    def g():\n",
    "        x = 'abc'   # x local \n",
    "        print('local x_in_g=', x,'\\n')\n",
    "   \n",
    "    def h():\n",
    "        z = x      #  x: up level      \n",
    "        print('local z_in_h', z,'\\n')\n",
    "        print('up level x_in_f', x,'\\n')  \n",
    "  \n",
    "    x = x + 1           \n",
    "    print('local x_in_f', x,'\\n') \n",
    "    \n",
    "    h()                 \n",
    "    g()                \n",
    "    \n",
    "    print('local x_in_f after h,g call=', x,'\\n') \n",
    "    \n",
    "    return g  # functions are objects, and can be returned just"
   ]
  },
  {
   "cell_type": "markdown",
   "metadata": {},
   "source": [
    "A name is added to the scope associated with a function, only if that name is \n",
    "<ul>\n",
    "<li> a formal parameter of the function \n",
    "<li> a variable that is bound to an object within the body of the function. \n",
    "</ul>"
   ]
  },
  {
   "cell_type": "code",
   "execution_count": 9,
   "metadata": {
    "collapsed": false
   },
   "outputs": [
    {
     "name": "stdout",
     "output_type": "stream",
     "text": [
      "local x_in_f 4 \n",
      "\n",
      "local z_in_h 4 \n",
      "\n",
      "up level x_in_f 4 \n",
      "\n",
      "local x_in_g= abc \n",
      "\n",
      "local x_in_f after h,g call= 4 \n",
      "\n",
      "top level x= 3 \n",
      "\n",
      "z = <function f.<locals>.g at 0x00000000007D6BF8>\n",
      "local x_in_g= abc \n",
      "\n"
     ]
    }
   ],
   "source": [
    "x = 3  \n",
    "z = f(x)\n",
    "print('top level x=', x,'\\n')\n",
    "\n",
    "print('z =', z)\n",
    "z()  # function g  is object,  be returned just"
   ]
  },
  {
   "cell_type": "markdown",
   "metadata": {},
   "source": [
    "The <b>order</b> in which references to a name occur is <b>not germane</b>. \n",
    "<p>\n",
    "If an object is bound to a name anywhere in the function body (even if it occurs in an expression before it appears as the left-hand-side of an assignment), it is treated as local to that function.\n"
   ]
  },
  {
   "cell_type": "code",
   "execution_count": 11,
   "metadata": {
    "collapsed": false
   },
   "outputs": [],
   "source": [
    "def f():\n",
    "    print('up level:', x)\n",
    "\n",
    "def g0():\n",
    "    x = 1 #  local x\n",
    "    print('local x,',x) \n",
    "\n",
    "# an error message is printed when it encounters the print statement in g\n",
    "# because the assignment statement following the print statement causes x to be local to g.\n",
    "def g():\n",
    "    print(x) #  x to be local to g\n",
    "    x = 1 \n",
    "    #  assignment statement following the print statement causes x to be local to g\n",
    "    #  The order is not germane,so x in print(x) to be local to g"
   ]
  },
  {
   "cell_type": "code",
   "execution_count": 12,
   "metadata": {
    "collapsed": false
   },
   "outputs": [
    {
     "name": "stdout",
     "output_type": "stream",
     "text": [
      "up level: 3\n",
      "local x, 1\n"
     ]
    },
    {
     "ename": "UnboundLocalError",
     "evalue": "local variable 'x' referenced before assignment",
     "output_type": "error",
     "traceback": [
      "\u001b[1;31m---------------------------------------------------------------------------\u001b[0m",
      "\u001b[1;31mUnboundLocalError\u001b[0m                         Traceback (most recent call last)",
      "\u001b[1;32m<ipython-input-12-31767086b793>\u001b[0m in \u001b[0;36m<module>\u001b[1;34m()\u001b[0m\n\u001b[0;32m      6\u001b[0m \u001b[1;33m\u001b[0m\u001b[0m\n\u001b[0;32m      7\u001b[0m \u001b[0mx\u001b[0m \u001b[1;33m=\u001b[0m \u001b[1;36m3\u001b[0m\u001b[1;33m\u001b[0m\u001b[0m\n\u001b[1;32m----> 8\u001b[1;33m \u001b[0mg\u001b[0m\u001b[1;33m(\u001b[0m\u001b[1;33m)\u001b[0m\u001b[1;33m\u001b[0m\u001b[0m\n\u001b[0m",
      "\u001b[1;32m<ipython-input-11-bc9f0ba7a4c2>\u001b[0m in \u001b[0;36mg\u001b[1;34m()\u001b[0m\n\u001b[0;32m      9\u001b[0m \u001b[1;31m# because the assignment statement following the print statement causes x to be local to g.\u001b[0m\u001b[1;33m\u001b[0m\u001b[1;33m\u001b[0m\u001b[0m\n\u001b[0;32m     10\u001b[0m \u001b[1;32mdef\u001b[0m \u001b[0mg\u001b[0m\u001b[1;33m(\u001b[0m\u001b[1;33m)\u001b[0m\u001b[1;33m:\u001b[0m\u001b[1;33m\u001b[0m\u001b[0m\n\u001b[1;32m---> 11\u001b[1;33m     \u001b[0mprint\u001b[0m\u001b[1;33m(\u001b[0m\u001b[0mx\u001b[0m\u001b[1;33m)\u001b[0m \u001b[1;31m#  x to be local to g\u001b[0m\u001b[1;33m\u001b[0m\u001b[0m\n\u001b[0m\u001b[0;32m     12\u001b[0m     \u001b[0mx\u001b[0m \u001b[1;33m=\u001b[0m \u001b[1;36m1\u001b[0m\u001b[1;33m\u001b[0m\u001b[0m\n\u001b[0;32m     13\u001b[0m     \u001b[1;31m#  assignment statement following the print statement causes x to be local to g\u001b[0m\u001b[1;33m\u001b[0m\u001b[1;33m\u001b[0m\u001b[0m\n",
      "\u001b[1;31mUnboundLocalError\u001b[0m: local variable 'x' referenced before assignment"
     ]
    }
   ],
   "source": [
    "x = 3\n",
    "f()\n",
    "\n",
    "x = 3\n",
    "g0()\n",
    "\n",
    "x = 3\n",
    "g()"
   ]
  },
  {
   "cell_type": "markdown",
   "metadata": {
    "collapsed": true
   },
   "source": [
    "<b>Most of the time</b> you will find that you only want to use <b>variables that are local to a function</b>, and the subtleties of scoping will be irrelevant."
   ]
  },
  {
   "cell_type": "markdown",
   "metadata": {},
   "source": [
    "## 4.2 Specifications \n",
    "\n",
    "<b>findRoot</b>： generalizes the bisection search we used to find square roots in Figure 4.1.\n",
    "\n",
    "<p><b>testFindRoot</b>： can be used to test whether or not findRoot works as intended.\n"
   ]
  },
  {
   "cell_type": "code",
   "execution_count": 3,
   "metadata": {
    "collapsed": true
   },
   "outputs": [],
   "source": [
    "#Page 42, Figure 4.5\n",
    "def findRoot(x, power, epsilon):\n",
    "    \"\"\"Assumes x and epsilon int or float, power an int,\n",
    "           epsilon > 0 & power >= 1\n",
    "       Returns float y such that y**power is within epsilon of x.\n",
    "           If such a float does not exist, it returns None\"\"\"\n",
    "   \n",
    "    if x < 0 and power%2 == 0:\n",
    "        return None\n",
    "    low = min(-1.0, x)\n",
    "    high = max(1.0, x)\n",
    "    ans = (high + low)/2.0\n",
    "    while abs(ans**power - x) >= epsilon:\n",
    "        if ans**power < x:\n",
    "            low = ans\n",
    "        else:\n",
    "            high = ans\n",
    "        ans = (high + low)/2.0\n",
    "    return ans\n",
    "\n",
    "def testFindRoot():\n",
    "    epsilon = 0.0001\n",
    "    for x in (0.25, -0.25, 2, -2, 8, -8):\n",
    "        for power in range(1, 4):\n",
    "            print('Testing x = ' + str(x) +\n",
    "                  ' and power = ' + str(power))   \n",
    "            result = findRoot(x, power, epsilon)\n",
    "            if result == None:\n",
    "                print( '   No root')\n",
    "            else:\n",
    "                print('   ', result**power, '~=', x)"
   ]
  },
  {
   "cell_type": "markdown",
   "metadata": {
    "collapsed": true
   },
   "source": [
    "<b>testFindRoot:</b> Experienced programmers know, however, that an investment in writing <b>testing code often pays big dividends </b>.\n",
    "<p> "
   ]
  },
  {
   "cell_type": "markdown",
   "metadata": {},
   "source": [
    "### docstring \n",
    "\n",
    "The text between the triple <b>quotation marks(\"\"\"   \"\"\")</b> is called a <b>docstring</b> in Python. \n",
    "By convention, Python programmers use docstrings to provide <b>specifications of functions</b>.\n",
    "These docstrings can be accessed using the built-in function <b>help</b>"
   ]
  },
  {
   "cell_type": "code",
   "execution_count": 1,
   "metadata": {
    "collapsed": false
   },
   "outputs": [
    {
     "name": "stdout",
     "output_type": "stream",
     "text": [
      "Help on built-in function abs in module builtins:\n",
      "\n",
      "abs(x, /)\n",
      "    Return the absolute value of the argument.\n",
      "\n"
     ]
    }
   ],
   "source": [
    "help(abs)"
   ]
  },
  {
   "cell_type": "code",
   "execution_count": 5,
   "metadata": {
    "collapsed": false
   },
   "outputs": [
    {
     "name": "stdout",
     "output_type": "stream",
     "text": [
      "Help on function findRoot in module __main__:\n",
      "\n",
      "findRoot(x, power, epsilon)\n",
      "    Assumes x and epsilon int or float, power an int,\n",
      "        epsilon > 0 & power >= 1\n",
      "    Returns float y such that y**power is within epsilon of x.\n",
      "        If such a float does not exist, it returns None\n",
      "\n"
     ]
    }
   ],
   "source": [
    "help(findRoot)"
   ]
  },
  {
   "cell_type": "code",
   "execution_count": 4,
   "metadata": {
    "collapsed": false
   },
   "outputs": [
    {
     "ename": "SyntaxError",
     "evalue": "unexpected EOF while parsing (<ipython-input-4-8a736f40167f>, line 1)",
     "output_type": "error",
     "traceback": [
      "\u001b[1;36m  File \u001b[1;32m\"<ipython-input-4-8a736f40167f>\"\u001b[1;36m, line \u001b[1;32m1\u001b[0m\n\u001b[1;33m    findRoot(\u001b[0m\n\u001b[1;37m                 ^\u001b[0m\n\u001b[1;31mSyntaxError\u001b[0m\u001b[1;31m:\u001b[0m unexpected EOF while parsing\n"
     ]
    }
   ],
   "source": [
    "findRoot("
   ]
  },
  {
   "cell_type": "markdown",
   "metadata": {},
   "source": [
    "<b>Python Toturial:</b> docstring :A string literal which appears as <b  style=\"color:blue\">the first expression</b> in a class, function or module. While ignored when the suite is executed, it is recognized by the compiler and put into the  <b style=\"color:blue\"> __doc__  </b>attribute of the enclosing class, function or module. Since it is available via introspection, it is the canonical place for documentation of the object."
   ]
  },
  {
   "cell_type": "code",
   "execution_count": 4,
   "metadata": {
    "collapsed": false
   },
   "outputs": [
    {
     "name": "stdout",
     "output_type": "stream",
     "text": [
      "Assumes x and epsilon int or float, power an int,\n",
      "           epsilon > 0 & power >= 1\n",
      "       Returns float y such that y**power is within epsilon of x.\n",
      "           If such a float does not exist, it returns None\n"
     ]
    }
   ],
   "source": [
    "print(findRoot.__doc__)"
   ]
  },
  {
   "cell_type": "markdown",
   "metadata": {},
   "source": [
    "<h3>PEP 0257 -- Docstring Conventions</h3>\n",
    "<hr />"
   ]
  },
  {
   "cell_type": "markdown",
   "metadata": {},
   "source": [
    "<b style=\"color:blue\">specification</b> of a function defines a <b style=\"color:blue\">contract</b> between the <b>implementer</b> of a function and those who　(<b>user－client</b>)　will be writing programs that use the function.\n",
    "\n",
    "This contract can be thought of as　containing <b>two parts</b>：\n",
    "<ol>\n",
    "<li><b>Assumptions</b>: These describe conditions that must be <b>met by clients</b> of the function.\n",
    "<li><b>Guarantees</b>: These describe conditions that must be <b>met by the function</b>,provided that it has been called in a way that satisfies the assumptions.\n",
    "</ol>\n"
   ]
  },
  {
   "cell_type": "markdown",
   "metadata": {},
   "source": [
    "we would like to　have the equivalent of a built-in function for finding roots and for many other complex operations. Functions facilitate this by providing <b>decomposition and abstraction</b>.\n",
    "<ol>\n",
    "<li><b>Decomposition</b> creates structure. It allows us to <b>break a problem into modules</b>　that are reasonably self-contained, and that may be reused in different settings.\n",
    "<li><b>Abstraction</b> hides detail. It allows us to use a piece of code as if it were <b>a black　box</b>—that is, something whose interior details we cannot see, don’t need to see,and shouldn’t even want to see.\n",
    "</ol>\n",
    "\n",
    "\n",
    "<p>Abstraction is all about forgetting.\n",
    "\n",
    "<p>The teenager has ignored all of those pesky details that he or she considers　irrelevant.\n",
    "\n",
    "<p>You could write twenty-five specifications, each saying　what material the students should learn in each lecture, but not giving any　detail about how that material should be taught.\n",
    "\n",
    "<h4>This is the way organizations go about using teams of programmers to get things　done.</h4>\n",
    "<p><b>\n",
    "Given a specification of a module, a programmer can work on　implementing that module without worrying unduly about what the other　programmers on the team are doing.\n",
    "<p>Moreover, the other programmers can use　the specification to start writing code that uses that module without worrying unduly about how that module is to be implemented.</b>"
   ]
  },
  {
   "cell_type": "markdown",
   "metadata": {},
   "source": [
    "The <b>specification of findRoot is an abstraction of all the possible　implementations</b>that meet the specification. Clients of findRoot can assume that the implementation meets the specification, but they should assume　nothing more.\n",
    "\n",
    "findRoot(4.0, 2, 0.01）returns some value whose square is between 3.99 and　4.01."
   ]
  },
  {
   "cell_type": "markdown",
   "metadata": {},
   "source": [
    "## 4.3 Recursion\n",
    "\n",
    "In general, a recursive definition is made up of two parts. \n",
    "<p>There is at least one <b>base case</b> that directly specifies the result for a special case (case 1 in the\n",
    "example above).\n",
    "<p>There is at least one <b>recursive (inductive) case</b> (cases 2and 3 in the example above) that defines the answer in terms of the answer to\n",
    "the question on some other input, typically a simpler version of the same\n",
    "problem."
   ]
  },
  {
   "cell_type": "markdown",
   "metadata": {},
   "source": [
    "### Iterative and recursive implementations of factorial"
   ]
  },
  {
   "cell_type": "code",
   "execution_count": 1,
   "metadata": {
    "collapsed": true
   },
   "outputs": [],
   "source": [
    "#Page 45, Figure 4.6\n",
    "def factI(n):\n",
    "   \"\"\"Assumes that n is an int > 0\n",
    "      Returns n!\"\"\"\n",
    "   result = 1\n",
    "   while n > 1:\n",
    "      result = result * n\n",
    "      n -= 1\n",
    "   return result\n",
    "   \n",
    "def factR(n):\n",
    "   \"\"\"Assumes that n is an int > 0\n",
    "      Returns n!\"\"\"\n",
    "   if n == 1:\n",
    "      return n\n",
    "   else:\n",
    "       return n*factR(n - 1)"
   ]
  },
  {
   "cell_type": "markdown",
   "metadata": {},
   "source": [
    "### 4.3.1 Fibonacci Numbers\n",
    "\n",
    "The Fibonacci sequence is another common mathematical function that is usually defined recursively.\n",
    "\n",
    "“They breed like rabbits,” -The growth in population is described naturally by the recurrence:\n",
    "```    \n",
    "females(0) =1\n",
    "\n",
    "females(1) = 1\n",
    "\n",
    "females(n + 2) = females(n+1) + females(n）\n",
    "```\n",
    "This definition is a little different from the recursive definition of factorial:\n",
    "<ul>\n",
    "<li>It has two base cases, <b>not just one</b>. In general, you can have as many base cases as you need.\n",
    "<li>In the recursive case, there are two recursive calls, not just one. Again,there can be as many as you need.\n",
    "</ul>"
   ]
  },
  {
   "cell_type": "code",
   "execution_count": 2,
   "metadata": {
    "collapsed": true
   },
   "outputs": [],
   "source": [
    "#Page 47, Figure 4.7\n",
    "def fib(n):\n",
    "    \"\"\"Assumes n an int >= 0\n",
    "       Returns Fibonacci of n\"\"\"\n",
    "    if n == 0 or n == 1:\n",
    "        return 1\n",
    "    else:\n",
    "        return fib(n-1) + fib(n-2)\n",
    "\n",
    "def testFib(n):\n",
    "    for i in range(n+1):\n",
    "        print( 'fib of', i, '=', fib(i))"
   ]
  },
  {
   "cell_type": "markdown",
   "metadata": {
    "collapsed": true
   },
   "source": [
    "### 4.3.2 Palindromes\n",
    "\n",
    "isPalindrome, that checks whether a string reads the same way backwards and forwards."
   ]
  },
  {
   "cell_type": "code",
   "execution_count": 5,
   "metadata": {
    "collapsed": false
   },
   "outputs": [],
   "source": [
    "#Page 48, Figure 4.8\n",
    "def isPalindrome(s):\n",
    "    \"\"\"Assumes s is a str\n",
    "      Returns True if s is a palindrome; False otherwise.\n",
    "        Punctuation marks, blanks, and capitalization are\n",
    "        ignored.\"\"\"\n",
    "   \n",
    "    def toChars(s):\n",
    "        s = s.lower()  # convert all letters to lowercase \n",
    "                       # method invocation,use dot notation \n",
    "        letters = ''\n",
    "        for c in s:   # remove all non-letters.\n",
    "            if c in 'abcdefghijklmnopqrstuvwxyz':\n",
    "                letters = letters + c\n",
    "        return letters\n",
    "\n",
    "    def isPal(s): #  recursion to do the real work\n",
    "        print('  isPal called with', s)\n",
    "        if len(s) <= 1:\n",
    "            print('  About to return True from base case')\n",
    "            return True\n",
    "        else:\n",
    "            answer = s[0] == s[-1] and isPal(s[1:-1])\n",
    "            # s[0] == s[-1] checks whether the first and last characters are the same\n",
    "            # isPal(s[1:-1]) check whether the string minus those two characters is a palindrome.\n",
    "            print('  About to return', answer, 'for', s)\n",
    "        return answer\n",
    "         \n",
    "    return isPal(toChars(s))"
   ]
  },
  {
   "cell_type": "markdown",
   "metadata": {},
   "source": [
    "The function isPalindrome contains two internal <b>helper functions</b>: toChars,isPal"
   ]
  },
  {
   "cell_type": "markdown",
   "metadata": {},
   "source": [
    "This implementation of isPalindrome is an example of a problem-solving principle known as <b>divide-and-conquer</b>\n",
    "<p>The problem-solving principle is to conquer a hard problem by breaking it\n",
    "into a set of subproblems with the properties that\n",
    "<ul>\n",
    "<li>the subproblems are easier to solve than the original problem, \n",
    "<li>solutions of the subproblems can be combined to solve the original problem\n",
    "</ul>"
   ]
  },
  {
   "cell_type": "markdown",
   "metadata": {},
   "source": [
    "#### Code to visualize palindrome testing"
   ]
  },
  {
   "cell_type": "code",
   "execution_count": 9,
   "metadata": {
    "collapsed": true
   },
   "outputs": [],
   "source": [
    "#page 49, Figure 4.9\n",
    "def isPalindrome(s):\n",
    "    \"\"\"Assumes s is a str\n",
    "      Returns True if s is a palindrome; False otherwise.\n",
    "        Punctuation marks, blanks, and capitalization are\n",
    "        ignored.\"\"\"\n",
    "   \n",
    "    def toChars(s):\n",
    "        s = s.lower()\n",
    "        letters = ''\n",
    "        for c in s:\n",
    "            if c in 'abcdefghijklmnopqrstuvwxyz':\n",
    "                letters = letters + c\n",
    "        return letters\n",
    "\n",
    "    def isPal(s):\n",
    "        print('  isPal called with', s)\n",
    "        if len(s) <= 1:\n",
    "            print('  About to return True from base case')\n",
    "            return True\n",
    "        else:\n",
    "            answer = s[0] == s[-1] and isPal(s[1:-1])\n",
    "            print( '  About to return', answer, 'for', s)\n",
    "            return answer\n",
    "         \n",
    "    return isPal(toChars(s))\n",
    "\n",
    "def testIsPalindrome():\n",
    "    print('Try dogGod')\n",
    "    print( isPalindrome('dogGod'))\n",
    "    print('\\nTry doGood')\n",
    "    print (isPalindrome('doGood'))"
   ]
  },
  {
   "cell_type": "code",
   "execution_count": 10,
   "metadata": {
    "collapsed": false
   },
   "outputs": [
    {
     "name": "stdout",
     "output_type": "stream",
     "text": [
      "Try dogGod\n",
      "  isPal called with doggod\n",
      "  isPal called with oggo\n",
      "  isPal called with gg\n",
      "  isPal called with \n",
      "  About to return True from base case\n",
      "  About to return True for gg\n",
      "  About to return True for oggo\n",
      "  About to return True for doggod\n",
      "True\n",
      "\n",
      "Try doGood\n",
      "  isPal called with dogood\n",
      "  isPal called with ogoo\n",
      "  isPal called with go\n",
      "  About to return False for go\n",
      "  About to return False for ogoo\n",
      "  About to return False for dogood\n",
      "False\n"
     ]
    }
   ],
   "source": [
    "testIsPalindrome()"
   ]
  },
  {
   "cell_type": "markdown",
   "metadata": {},
   "source": [
    "## 4.4 Global Variables\n",
    "\n",
    "Until now, all of the <b>functions</b> we have written <b>communicate</b> with their environment <b>solely through their parameters and return values</b>. \n",
    "<p>For the most part, this is exactly as <b>it should be</b>. It typically leads to programs that are relatively <b>easy to read, test, and debug</b>\n",
    "\n",
    "<p>The key to making programs readable is locality. \n",
    "<p>Nevertheless, there are times when they are just what is needed.\n",
    "\n",
    "Suppose we want to know how many recursive calls aremade? \n",
    "<p>One way to do that uses <b>global variables</b>\n",
    "<p>The functions fib and testFib both have unfettered access to the object referenced by the variable numFibCalls."
   ]
  },
  {
   "cell_type": "code",
   "execution_count": 5,
   "metadata": {
    "collapsed": true
   },
   "outputs": [],
   "source": [
    "#Page 51, Figure 4.10\n",
    "def fib(x):\n",
    "    \"\"\"Assumes x an int >= 0\n",
    "       Returns Fibonacci of x\"\"\"\n",
    "    global numFibCalls\n",
    "    numFibCalls += 1\n",
    "    if x == 0 or x == 1:\n",
    "        return 1\n",
    "    else:\n",
    "        return fib(x-1) + fib(x-2)\n",
    "\n",
    "def testFib(n):\n",
    "    for i in range(n+1):\n",
    "        global numFibCalls\n",
    "        numFibCalls = 0\n",
    "        print('fib of', i, '=', fib(i))\n",
    "        print('fib called', numFibCalls, 'times.')"
   ]
  },
  {
   "cell_type": "code",
   "execution_count": 6,
   "metadata": {
    "collapsed": false
   },
   "outputs": [
    {
     "name": "stdout",
     "output_type": "stream",
     "text": [
      "fib of 0 = 1\n",
      "fib called 1 times.\n",
      "fib of 1 = 1\n",
      "fib called 1 times.\n",
      "fib of 2 = 2\n",
      "fib called 3 times.\n",
      "fib of 3 = 3\n",
      "fib called 5 times.\n",
      "fib of 4 = 5\n",
      "fib called 9 times.\n",
      "fib of 5 = 8\n",
      "fib called 15 times.\n",
      "fib of 6 = 13\n",
      "fib called 25 times.\n",
      "fib of 7 = 21\n",
      "fib called 41 times.\n",
      "fib of 8 = 34\n",
      "fib called 67 times.\n",
      "fib of 9 = 55\n",
      "fib called 109 times.\n",
      "fib of 10 = 89\n",
      "fib called 177 times.\n",
      "fib of 11 = 144\n",
      "fib called 287 times.\n",
      "fib of 12 = 233\n",
      "fib called 465 times.\n"
     ]
    }
   ],
   "source": [
    "testFib(12)"
   ]
  },
  {
   "cell_type": "markdown",
   "metadata": {},
   "source": [
    "<b>numFibCalls</b> occurs on the left-hand side of an assignment statement in both fib and testFib. \n",
    "<p>We do not included the code <b>global numFibCalls</b> in fib and testFib , the name numFibCalls is local to each of fib and testFib."
   ]
  },
  {
   "cell_type": "code",
   "execution_count": 9,
   "metadata": {
    "collapsed": true
   },
   "outputs": [],
   "source": [
    "#Page 51, Figure 4.10\n",
    "global numFibCalls=0\n",
    "\n",
    "def fib(x):\n",
    "    \"\"\"Assumes x an int >= 0\n",
    "       Returns Fibonacci of x\"\"\"\n",
    "    numFibCalls += 1\n",
    "    if x == 0 or x == 1:\n",
    "        return 1\n",
    "    else:\n",
    "        return fib(x-1) + fib(x-2)\n",
    "\n",
    "def testFib(n):\n",
    "    for i in range(n+1):\n",
    "        numFibCalls = 0\n",
    "        print('fib of', i, '=', fib(i))\n",
    "        print('fib called', numFibCalls, 'times.')"
   ]
  },
  {
   "cell_type": "code",
   "execution_count": 10,
   "metadata": {
    "collapsed": false
   },
   "outputs": [
    {
     "ename": "UnboundLocalError",
     "evalue": "local variable 'numFibCalls' referenced before assignment",
     "output_type": "error",
     "traceback": [
      "\u001b[1;31m---------------------------------------------------------------------------\u001b[0m",
      "\u001b[1;31mUnboundLocalError\u001b[0m                         Traceback (most recent call last)",
      "\u001b[1;32m<ipython-input-10-8c1fde49fc10>\u001b[0m in \u001b[0;36m<module>\u001b[1;34m()\u001b[0m\n\u001b[1;32m----> 1\u001b[1;33m \u001b[0mtestFib\u001b[0m\u001b[1;33m(\u001b[0m\u001b[1;36m12\u001b[0m\u001b[1;33m)\u001b[0m\u001b[1;33m\u001b[0m\u001b[0m\n\u001b[0m",
      "\u001b[1;32m<ipython-input-9-c9e3cf1ac94b>\u001b[0m in \u001b[0;36mtestFib\u001b[1;34m(n)\u001b[0m\n\u001b[0;32m     14\u001b[0m     \u001b[1;32mfor\u001b[0m \u001b[0mi\u001b[0m \u001b[1;32min\u001b[0m \u001b[0mrange\u001b[0m\u001b[1;33m(\u001b[0m\u001b[0mn\u001b[0m\u001b[1;33m+\u001b[0m\u001b[1;36m1\u001b[0m\u001b[1;33m)\u001b[0m\u001b[1;33m:\u001b[0m\u001b[1;33m\u001b[0m\u001b[0m\n\u001b[0;32m     15\u001b[0m         \u001b[0mnumFibCalls\u001b[0m \u001b[1;33m=\u001b[0m \u001b[1;36m0\u001b[0m\u001b[1;33m\u001b[0m\u001b[0m\n\u001b[1;32m---> 16\u001b[1;33m         \u001b[0mprint\u001b[0m\u001b[1;33m(\u001b[0m\u001b[1;34m'fib of'\u001b[0m\u001b[1;33m,\u001b[0m \u001b[0mi\u001b[0m\u001b[1;33m,\u001b[0m \u001b[1;34m'='\u001b[0m\u001b[1;33m,\u001b[0m \u001b[0mfib\u001b[0m\u001b[1;33m(\u001b[0m\u001b[0mi\u001b[0m\u001b[1;33m)\u001b[0m\u001b[1;33m)\u001b[0m\u001b[1;33m\u001b[0m\u001b[0m\n\u001b[0m\u001b[0;32m     17\u001b[0m         \u001b[0mprint\u001b[0m\u001b[1;33m(\u001b[0m\u001b[1;34m'fib called'\u001b[0m\u001b[1;33m,\u001b[0m \u001b[0mnumFibCalls\u001b[0m\u001b[1;33m,\u001b[0m \u001b[1;34m'times.'\u001b[0m\u001b[1;33m)\u001b[0m\u001b[1;33m\u001b[0m\u001b[0m\n",
      "\u001b[1;32m<ipython-input-9-c9e3cf1ac94b>\u001b[0m in \u001b[0;36mfib\u001b[1;34m(x)\u001b[0m\n\u001b[0;32m      5\u001b[0m     \"\"\"Assumes x an int >= 0\n\u001b[0;32m      6\u001b[0m        Returns Fibonacci of x\"\"\"\n\u001b[1;32m----> 7\u001b[1;33m     \u001b[0mnumFibCalls\u001b[0m \u001b[1;33m+=\u001b[0m \u001b[1;36m1\u001b[0m\u001b[1;33m\u001b[0m\u001b[0m\n\u001b[0m\u001b[0;32m      8\u001b[0m     \u001b[1;32mif\u001b[0m \u001b[0mx\u001b[0m \u001b[1;33m==\u001b[0m \u001b[1;36m0\u001b[0m \u001b[1;32mor\u001b[0m \u001b[0mx\u001b[0m \u001b[1;33m==\u001b[0m \u001b[1;36m1\u001b[0m\u001b[1;33m:\u001b[0m\u001b[1;33m\u001b[0m\u001b[0m\n\u001b[0;32m      9\u001b[0m         \u001b[1;32mreturn\u001b[0m \u001b[1;36m1\u001b[0m\u001b[1;33m\u001b[0m\u001b[0m\n",
      "\u001b[1;31mUnboundLocalError\u001b[0m: local variable 'numFibCalls' referenced before assignment"
     ]
    }
   ],
   "source": [
    "testFib(12)"
   ]
  },
  {
   "cell_type": "markdown",
   "metadata": {},
   "source": [
    "## 4.5 Modules\n",
    "\n",
    "Python modules allow us to easily construct a program from code in multiple files.\n",
    "<p>A module is <b>a `.py` file</b> containing Python definitions and statements.\n",
    "\n",
    "<p>For example, a file <b>circle.py</b> containing"
   ]
  },
  {
   "cell_type": "code",
   "execution_count": null,
   "metadata": {
    "collapsed": true
   },
   "outputs": [],
   "source": [
    "pi = 3.14159  # executable statements \n",
    "\n",
    "def area(radius):  # function definitions.\n",
    "    return pi*(radius**2)\n",
    "\n",
    "def circumference(radius):\n",
    "    return 2*pi*radius\n",
    "\n",
    "def sphereSurface(radius):\n",
    "    return 4.0*area(radius)\n",
    "\n",
    "def sphereVolume(radius):\n",
    "    return (4.0/3.0)*pi*(radius**3)"
   ]
  },
  {
   "cell_type": "markdown",
   "metadata": {},
   "source": [
    "A program gets access to a module through an <b>import</b> statement. So, for example, the code"
   ]
  },
  {
   "cell_type": "code",
   "execution_count": 10,
   "metadata": {
    "collapsed": false
   },
   "outputs": [
    {
     "name": "stdout",
     "output_type": "stream",
     "text": [
      "3.14159\n",
      "28.27431\n",
      "18.849539999999998\n",
      "113.09724\n"
     ]
    }
   ],
   "source": [
    "#Page 52\n",
    "import circle\n",
    "print(circle.pi)\n",
    "print(circle.area(3))\n",
    "print(circle.circumference(3))\n",
    "print(circle.sphereSurface(3))"
   ]
  },
  {
   "cell_type": "markdown",
   "metadata": {},
   "source": [
    "Executing <b>import M</b> creates <b>a binding for module M</b>,in the importing context,we use dot notation to indicate that we are referring to a name defined in the imported module\n",
    "<p>The use of <b>dot notation</b> to fully qualify names avoids the possibility of getting burned by an accidental name clash."
   ]
  },
  {
   "cell_type": "code",
   "execution_count": 12,
   "metadata": {
    "collapsed": false
   },
   "outputs": [
    {
     "name": "stdout",
     "output_type": "stream",
     "text": [
      "3.14159\n"
     ]
    }
   ],
   "source": [
    "pi=3.0\n",
    "print(circle.pi)"
   ]
  },
  {
   "cell_type": "markdown",
   "metadata": {},
   "source": [
    "There is a variant of the import statement that allows the importing program to <b>omit the module name</b> when accessing names defined inside the imported module. \n",
    "<p>Executing the statement from M <b>import *</b> creates <b>bindings</b> in the current scope <b>to all objects </b>defined within M, but <b>not to M itself</b>. "
   ]
  },
  {
   "cell_type": "code",
   "execution_count": 14,
   "metadata": {
    "collapsed": false
   },
   "outputs": [
    {
     "name": "stdout",
     "output_type": "stream",
     "text": [
      "3.14159\n",
      "3.14159\n"
     ]
    }
   ],
   "source": [
    "from circle import *\n",
    "print(pi)\n",
    "print(circle.pi)"
   ]
  },
  {
   "cell_type": "markdown",
   "metadata": {},
   "source": [
    "As we have seen, a module can contain <b>executable statements</b> as well as <b>function definitions</b>. Typically,these <b>statements</b> are used to <b>initialize the module</b>. \n",
    "\n",
    "<p>You can force the interpreter to reload all imported modules by executing <b>reload()</b>"
   ]
  },
  {
   "cell_type": "markdown",
   "metadata": {},
   "source": [
    "#### Reference: Python Tutorial: Chapter 6 :MODULES"
   ]
  },
  {
   "cell_type": "markdown",
   "metadata": {},
   "source": [
    "## 4.6 Files\n",
    "\n",
    "Python achieves operating-system independence by accessing files through something called a file handle.\n",
    "\n",
    "The argument <b>'w'</b> to open indicates that the file is to be opened for  <b>writing</b>."
   ]
  },
  {
   "cell_type": "code",
   "execution_count": 1,
   "metadata": {
    "collapsed": false
   },
   "outputs": [
    {
     "name": "stdout",
     "output_type": "stream",
     "text": [
      "Enter name: e\n",
      "Enter name: eee\n"
     ]
    }
   ],
   "source": [
    "nameHandle = open('kids', 'w')\n",
    "for i in range(2):\n",
    "    name = input('Enter name: ')\n",
    "    nameHandle.write(name + '\\n')\n",
    "nameHandle.close()"
   ]
  },
  {
   "cell_type": "markdown",
   "metadata": {},
   "source": [
    "the string <b>'\\n'</b> indicates a new line character."
   ]
  },
  {
   "cell_type": "markdown",
   "metadata": {
    "collapsed": true
   },
   "source": [
    "open the file for <b>reading</b>,using the argument <b>'r'</b>"
   ]
  },
  {
   "cell_type": "code",
   "execution_count": 3,
   "metadata": {
    "collapsed": false
   },
   "outputs": [
    {
     "name": "stdout",
     "output_type": "stream",
     "text": [
      "e\n",
      "\n",
      "eee\n",
      "\n"
     ]
    }
   ],
   "source": [
    "nameHandle = open('kids', 'r')\n",
    "for line in nameHandle:\n",
    "    print(line)\n",
    "nameHandle.close()"
   ]
  },
  {
   "cell_type": "markdown",
   "metadata": {
    "collapsed": true
   },
   "source": [
    "We could have avoided printing that( new line) by writing print line[:-1]."
   ]
  },
  {
   "cell_type": "code",
   "execution_count": 6,
   "metadata": {
    "collapsed": false
   },
   "outputs": [
    {
     "name": "stdout",
     "output_type": "stream",
     "text": [
      "Michael\n",
      "Mark\n"
     ]
    }
   ],
   "source": [
    "nameHandle = open('kids', 'w')\n",
    "nameHandle.write('Michael\\n')\n",
    "nameHandle.write('Mark\\n')\n",
    "nameHandle.close()\n",
    "\n",
    "nameHandle = open('kids', 'r')\n",
    "for line in nameHandle:\n",
    "    print(line[:-1])\n",
    "nameHandle.close()"
   ]
  },
  {
   "cell_type": "markdown",
   "metadata": {
    "collapsed": true
   },
   "source": [
    "open the file for <b>appending </b> (instead of writing) by using the argument  <b>'a' </b>."
   ]
  },
  {
   "cell_type": "code",
   "execution_count": 7,
   "metadata": {
    "collapsed": false
   },
   "outputs": [
    {
     "name": "stdout",
     "output_type": "stream",
     "text": [
      "Michael\n",
      "Mark\n",
      "David\n",
      "Andrea\n"
     ]
    }
   ],
   "source": [
    "nameHandle = open('kids', 'a')\n",
    "nameHandle.write('David\\n')\n",
    "nameHandle.write('Andrea\\n')\n",
    "nameHandle.close()\n",
    "\n",
    "nameHandle = open('kids', 'r')\n",
    "for line in nameHandle:\n",
    "    print(line[:-1])\n",
    "nameHandle.close()"
   ]
  }
 ],
 "metadata": {
  "kernelspec": {
   "display_name": "Python 3",
   "language": "python",
   "name": "python3"
  },
  "language_info": {
   "codemirror_mode": {
    "name": "ipython",
    "version": 3
   },
   "file_extension": ".py",
   "mimetype": "text/x-python",
   "name": "python",
   "nbconvert_exporter": "python",
   "pygments_lexer": "ipython3",
   "version": "3.5.1"
  }
 },
 "nbformat": 4,
 "nbformat_minor": 0
}

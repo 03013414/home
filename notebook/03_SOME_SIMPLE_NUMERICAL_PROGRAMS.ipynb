{
 "cells": [
  {
   "cell_type": "markdown",
   "metadata": {},
   "source": [
    "# 3 SOME SIMPLE NUMERICAL PROGRAMS\n",
    "\n",
    "Now that we have covered some basic Python constructs, it is time to start thinking about<b style=\"color:blue\"> how </b>we can combine those constructs to write some<b style=\"color:blue\"> simple programs</b>. \n",
    "<p>Along the way, we’ll sneak in a few more <b>language constructs</b> and some<b> algorithmic techniques</b>."
   ]
  },
  {
   "cell_type": "markdown",
   "metadata": {},
   "source": [
    "## 3.1 Exhaustive Enumeration"
   ]
  },
  {
   "cell_type": "code",
   "execution_count": null,
   "metadata": {
    "collapsed": false
   },
   "outputs": [],
   "source": [
    "#Page 21, Figure 3.1\n",
    "#Find the cube root of a perfect cube\n",
    "\n",
    "#x = int(input('Enter an integer: '))\n",
    "#x=19\n",
    "x=8\n",
    "#x=-8\n",
    "\n",
    "ans = 0   #  ！！！\n",
    "while ans**3 < abs(x):\n",
    "    ans = ans + 1  # +1  Exhaustive Enumeration\n",
    "\n",
    "if ans**3 != abs(x):\n",
    "    print(x, 'is not a perfect cube')\n",
    "else:\n",
    "    if x < 0:\n",
    "        ans = -ans\n",
    "    print('Cube root of', x,'is', ans)"
   ]
  },
  {
   "cell_type": "markdown",
   "metadata": {},
   "source": [
    "### decrementing function\n",
    "\n",
    "What is the decrementing function for the loop in Figure 3.1? It is <b style=\"color:blue\">abs(x) - ans**3.</b>\n",
    "\n",
    "Whenever you write a loop, you should think about an appropriate <b>decrementing function.</b> This is a function that has the following properties:\n",
    "<ol>\n",
    "<li>It maps a set of program variables into an integer.\n",
    "<li>When the loop is entered, its value is nonnegative.\n",
    "<li>When its value is <=0, the loop terminates.\n",
    "<li>Its value is decreased every time through the loop.\n",
    "</ol>"
   ]
  },
  {
   "cell_type": "markdown",
   "metadata": {
    "collapsed": true
   },
   "source": [
    "### Now, let’s insert some errors and see what happens\n",
    "\n",
    "<b>First</b>, try <b  style=\"color:blue\">commenting out the statement ans = 0</b>. \n",
    "The Python interpreter prints the error message, NameError: name 'ans' is not defined, because the interpreter attempts to  find the value to which ans is bound before it has been bound to anything."
   ]
  },
  {
   "cell_type": "code",
   "execution_count": null,
   "metadata": {
    "collapsed": false
   },
   "outputs": [],
   "source": [
    "x=-8\n",
    "# ans = 0   #  commenting out the statement ans = 0\n",
    "            #2.When the loop is entered, its value is nonnegative\n",
    "while ans**3 < abs(x):\n",
    "    ans = ans + 1  # \n",
    "\n",
    "if ans**3 != abs(x):\n",
    "    print(x, 'is not a perfect cube')\n",
    "else:\n",
    "    if x < 0:\n",
    "        ans = -ans\n",
    "    print('Cube root of', x,'is', ans)"
   ]
  },
  {
   "cell_type": "markdown",
   "metadata": {},
   "source": [
    "Now,restore the initialization of ans, <b  style=\"color:blue\">replace the statement ans = ans + 1 by ans = ans</b>, and try finding the cube root of 8. After you get <b  style=\"color:red\">tired of waiting</b>, enter <b>“control c”</b> (hold down the control key and the c key simultaneously). This will return you to the user prompt in the shell."
   ]
  },
  {
   "cell_type": "code",
   "execution_count": null,
   "metadata": {
    "collapsed": true
   },
   "outputs": [],
   "source": [
    "x=8\n",
    "ans = 0  \n",
    "\n",
    "while ans**3 < abs(x):\n",
    "    ans = ans  # replace the statement ans = ans + 1 by ans = ans \n",
    "               # 4.Its value is decreased every time through the loop. \n",
    "               # 3.When its value is <=0, the loop terminates. \n",
    "\n",
    "if ans**3 != abs(x):\n",
    "    print(x, 'is not a perfect cube')\n",
    "else:\n",
    "    if x < 0:\n",
    "        ans = -ans\n",
    "    print('Cube root of', x,'is', ans)"
   ]
  },
  {
   "cell_type": "markdown",
   "metadata": {},
   "source": [
    "Now, add the statement"
   ]
  },
  {
   "cell_type": "code",
   "execution_count": null,
   "metadata": {
    "collapsed": true
   },
   "outputs": [],
   "source": [
    "print 'Value of the decrementing function abs(x) - ans**3 is',\\\n",
    "       abs(x) - ans**3 "
   ]
  },
  {
   "cell_type": "markdown",
   "metadata": {},
   "source": [
    "at the start of the loop, and try running it again. \n",
    "The<b style=\"color:blue\"> \\</b>  at the end of the first line of the print statement is used to indicate that the statement continues on the next line.（Python may no \"\\\")"
   ]
  },
  {
   "cell_type": "markdown",
   "metadata": {},
   "source": [
    "### Do not use backslash line \"\\\" continuation. \n",
    "\n",
    "<p><b>google python style guide</b>\n",
    "\n",
    "<p>Make use of Python's <b>implicit line joining</b> inside <b>parentheses, brackets and braces</b>.\n",
    "<p>If necessary, you can <b>add an extra pair of parentheses around an expression.</b> \n"
   ]
  },
  {
   "cell_type": "code",
   "execution_count": null,
   "metadata": {
    "collapsed": true
   },
   "outputs": [],
   "source": [
    "foo_bar(self, width, height, color='black', design=None, x='foo',\n",
    "             emphasis=None, highlight=0)\n",
    "\n",
    "if (width == 0 and height == 0 and\n",
    "         color == 'red' and emphasis == 'strong'):"
   ]
  },
  {
   "cell_type": "markdown",
   "metadata": {},
   "source": [
    "When a literal string won't fit on a single line, use parentheses for implicit line joining. "
   ]
  },
  {
   "cell_type": "code",
   "execution_count": null,
   "metadata": {
    "collapsed": true
   },
   "outputs": [],
   "source": [
    "x = ('This will build a very long long '\n",
    "     'long long long long long long string')"
   ]
  },
  {
   "cell_type": "code",
   "execution_count": null,
   "metadata": {
    "collapsed": true
   },
   "outputs": [],
   "source": [
    "print ('Value of the decrementing function abs(x) - ans**3 is',\n",
    "       abs(x) - ans**3)  # #Do not use backslash line continuation. "
   ]
  },
  {
   "cell_type": "code",
   "execution_count": null,
   "metadata": {
    "collapsed": false
   },
   "outputs": [],
   "source": [
    "# Test in IDEL By ch3_cube_root\n",
    "x=8\n",
    "ans = 0  \n",
    "while ans**3 < abs(x):\n",
    "    \n",
    "    print('Value of the decrementing function abs(x) - ans**3 is',\\ \n",
    "            abs(x) - ans**3) # add the statement at the start of the loop\n",
    "                             # test whether the decrementing function is indeed being decremented\n",
    "   \n",
    "    ans = ans  # replace the statement ans = ans + 1 by ans = ans \n",
    "               # 4.Its value is decreased every time through the loop. \n",
    "               # 3.When its value is <=0, the loop terminates. \n",
    "\n",
    "if ans**3 != abs(x):\n",
    "    print(x, 'is not a perfect cube')\n",
    "else:\n",
    "    if x < 0:\n",
    "        ans = -ans\n",
    "    print('Cube root of', x,'is', ans)"
   ]
  },
  {
   "cell_type": "markdown",
   "metadata": {
    "collapsed": true
   },
   "source": [
    "<h3> When confronted with a program that seems <b style=\"color:blue\">not to be terminating</b>, experienced programmers often <strong  style=\"color:blue\"> insert print statements, such as the one here, to test whether the  <b style=\"color:red\">decrementing function is indeed being decremented</strong>.</h3>"
   ]
  },
  {
   "cell_type": "markdown",
   "metadata": {},
   "source": [
    "The algorithmic technique used in this program is a variant of <b>guess and check</b>\n",
    "called<b>exhaustive enumeration</b>. We enumerate all possibilities until we get to\n",
    "the right answer or exhaust the space of possibilities. At first blush, this may\n",
    "seem like an incredibly stupid way to solve a problem. Surprisingly, however,\n",
    "exhaustive enumeration algorithms are often the most practical way to solve a\n",
    "problem."
   ]
  },
  {
   "cell_type": "code",
   "execution_count": null,
   "metadata": {
    "collapsed": false
   },
   "outputs": [],
   "source": [
    "x=1957816251  # 7406961012236344616 very big \n",
    "ans = 0   \n",
    "while ans**3 < abs(x):\n",
    "    ans = ans + 1  # \n",
    "\n",
    "if ans**3 != abs(x):\n",
    "    print(x, 'is not a perfect cube')\n",
    "else:\n",
    "    if x < 0:\n",
    "        ans = -ans\n",
    "    print('Cube root of', x,'is', ans)"
   ]
  },
  {
   "cell_type": "markdown",
   "metadata": {
    "collapsed": true
   },
   "source": [
    "Just for fun, try executing the code: See how large an integer you need to enter before there is <b>a perceptible pause</b>\n",
    "before the result is printed."
   ]
  },
  {
   "cell_type": "code",
   "execution_count": null,
   "metadata": {
    "collapsed": true
   },
   "outputs": [],
   "source": [
    "imax = int(input('Enter a postive integer: '))  # very big  max is the name: built-in function \n",
    "i = 0\n",
    "while i < imax:\n",
    "    i = i + 1\n",
    "print(i)"
   ]
  },
  {
   "cell_type": "markdown",
   "metadata": {},
   "source": [
    "### Dynamic typing\n",
    "\n",
    "Python is dynamically typed, which means that variables do not have a fixed type. \n",
    "\n",
    "In fact, in Python, variables are very different from what they are in many other languages, specifically statically-typed languages.\n",
    "\n",
    "Variables are not a segment of the computer’s memory where some value is written, they are ‘tags’ or ‘names’ pointing to objects. \n",
    "\n",
    "It is therefore possible for the variable ‘a’ to be set to the value 1, then to the value ‘a string’, then to a function."
   ]
  },
  {
   "cell_type": "code",
   "execution_count": null,
   "metadata": {
    "collapsed": false
   },
   "outputs": [],
   "source": [
    "a = 1   # variables do not have a fixed type,just names pointing to objects\n",
    "print(a)\n",
    "a = 'a string'\n",
    "print(a)\n",
    "def a():\n",
    "    pass  # Do something\n",
    "print(a)"
   ]
  },
  {
   "cell_type": "markdown",
   "metadata": {},
   "source": [
    "The dynamic typing of Python is often considered to be a weakness, and indeed it can lead to complexities and hard-to-debug code. Something named ‘a’ can be set to many different things, and the developer or the maintainer needs to track this name in the code to make sure it has not been set to a completely unrelated object."
   ]
  },
  {
   "cell_type": "markdown",
   "metadata": {},
   "source": [
    "### Avoid using the same variable name for different things."
   ]
  },
  {
   "cell_type": "code",
   "execution_count": null,
   "metadata": {
    "collapsed": true
   },
   "outputs": [],
   "source": [
    "count = 1\n",
    "msg = 'a string'\n",
    "def func():\n",
    "    pass  # Do something"
   ]
  },
  {
   "cell_type": "markdown",
   "metadata": {},
   "source": [
    "## 3.2 For Loops\n",
    "\n",
    "Python provides a language mechanism, the <b>for</b> loop,that can be used to simplify programs containing this kind of iteration: Each iterates over a sequence of integers.\n",
    "\n",
    "The general form of a for statement is :\n",
    "```python\n",
    "for variable in sequence:\n",
    "    code block\n",
    "```"
   ]
  },
  {
   "cell_type": "markdown",
   "metadata": {},
   "source": [
    "The process continues until the sequence is exhausted or a <b style=\"color:blue\">break</b> statement is executed within the code block.\n",
    "\n",
    "The sequence of values bound to variable is most commonly generated using the built-in function <b style=\"color:blue\">range</b>, which returns a sequence containing an arithmetic\n",
    "progression. The range function takes three integer arguments: start, stop, and step. \n",
    "\n",
    "<b style=\"color:blue\">range(start,stop,step)</b>\n",
    "\n",
    "It produces the progression start, start + step, start + 2*step, etc.\n",
    "\n",
    "    range(5,40,10) -> [5,15,25,35]\n",
    "\n",
    "If step is negative, the last element is the smallest integer start + i*step greater than stop.\n",
    "\n",
    "    range(40,5,-10)-> [40,30,20,10]\n",
    "\n",
    "If the first argument is omitted it defaults to 0, \n",
    "if the lastargument (the step size) is omitted it defaults to 1.\n",
    "\n",
    "    range(3)-> range(0, 3)->range(0, 3,1) ->[0, 1, 2]\n"
   ]
  },
  {
   "cell_type": "code",
   "execution_count": null,
   "metadata": {
    "collapsed": true
   },
   "outputs": [],
   "source": [
    "x = 4\n",
    "for i in range(0, x):\n",
    "    print(i) "
   ]
  },
  {
   "cell_type": "code",
   "execution_count": null,
   "metadata": {
    "collapsed": false
   },
   "outputs": [],
   "source": [
    "x = 4\n",
    "for i in range(0, x):\n",
    "    x=5\n",
    "    print(i) "
   ]
  },
  {
   "cell_type": "markdown",
   "metadata": {},
   "source": [
    "The range function in the line with for is evaluated <b>just</b> before the <b>first iteration of the loop</b>, and not reevaluated for subsequent iterations."
   ]
  },
  {
   "cell_type": "code",
   "execution_count": null,
   "metadata": {
    "collapsed": false
   },
   "outputs": [],
   "source": [
    "x = 4\n",
    "for j in range(x):\n",
    "    print('j: ',j)\n",
    "    for i in range(x):  # inner loop\n",
    "        print(i)\n",
    "        x=2              # inner loop    "
   ]
  },
  {
   "cell_type": "code",
   "execution_count": null,
   "metadata": {
    "collapsed": false
   },
   "outputs": [],
   "source": [
    "x = 4\n",
    "for j in range(x):\n",
    "    print('j: ',j)\n",
    "    for i in range(x):  # inner loop\n",
    "        print(i)\n",
    "    x=2 # change  x=2"
   ]
  },
  {
   "cell_type": "markdown",
   "metadata": {},
   "source": [
    "finding cube roots: <b>while loop -> for loop</b> \n",
    "\n",
    "The <b>break</b> statement in the <b>for loop</b> causes the loop to terminate before it has been run on each element in the sequence over which it is iterating."
   ]
  },
  {
   "cell_type": "code",
   "execution_count": null,
   "metadata": {
    "collapsed": false
   },
   "outputs": [],
   "source": [
    "# Find the cube root of a perfect cube\n",
    "x = int(input('Enter an integer: '))  #  27\n",
    "for ans in range(0, abs(x) + 1):   \n",
    "    if ans**3 >= abs(x):\n",
    "        break          #  break statement\n",
    "\n",
    "if ans**3 != abs(x):\n",
    "    print(x, 'is not a perfect cube')\n",
    "else:\n",
    "    if x < 0:\n",
    "        ans = -ans\n",
    "    print('Cube root of', x, 'is', ans)"
   ]
  },
  {
   "cell_type": "markdown",
   "metadata": {},
   "source": [
    "The for statement can be used to conveniently <b>iterate</b> over characters of a <b>string</b>."
   ]
  },
  {
   "cell_type": "markdown",
   "metadata": {},
   "source": [
    "Most of the time, numbers of type float provide a reasonably good approximation to real numbers. But <b  style=\"color:blue\">“most of the time” is not all of the time</b>,\n",
    "and when they don’t it can lead to <b>surprising consequences</b>."
   ]
  },
  {
   "cell_type": "code",
   "execution_count": null,
   "metadata": {
    "collapsed": false
   },
   "outputs": [],
   "source": [
    "total = 0\n",
    "for c in '123456789':\n",
    "    total = total + int(c)\n",
    "print(total)"
   ]
  },
  {
   "cell_type": "markdown",
   "metadata": {},
   "source": [
    "## 3.3 Approximate Solutions and Bisection Search\n",
    "\n",
    "Imagine that someone asks you to write a program that finds the square root of any nonnegative number. What should you do?\n",
    "\n",
    "The right thing to have asked for is a program that finds an <b style=\"color:blue\">approximation</b> to the square root—i.e., an answer that is close enough to the actual square root to be useful.\n",
    "\n",
    "<b style=\"color:blue\">numerical solution</b>\n",
    "\n",
    "<b style=\"color:blue\">analytical solution</b>"
   ]
  },
  {
   "cell_type": "markdown",
   "metadata": {},
   "source": [
    "### 1) Approximating the square root using exhaustive enumeration"
   ]
  },
  {
   "cell_type": "code",
   "execution_count": null,
   "metadata": {
    "collapsed": false
   },
   "outputs": [],
   "source": [
    "#Page 26, Figure 3.3\n",
    "x = 24\n",
    "epsilon = 0.01\n",
    "step = epsilon**2\n",
    "numGuesses = 0\n",
    "ans = 0.0\n",
    "while abs(ans**2 - x) >= epsilon and ans <= x:\n",
    "    ans += step        # += :ans = ans+ step; -= *=                         \n",
    "    numGuesses += 1\n",
    "print('numGuesses =', numGuesses)\n",
    "if abs(ans**2 - x) >= epsilon:\n",
    "    print('Failed on square root of', x)\n",
    "else:\n",
    "    print(ans, 'is close to square root of', x)"
   ]
  },
  {
   "cell_type": "code",
   "execution_count": null,
   "metadata": {
    "collapsed": false
   },
   "outputs": [],
   "source": [
    "x=0.25  #  0.5 [0,1]\n",
    "epsilon = 0.01\n",
    "step = epsilon**2\n",
    "numGuesses = 0\n",
    "ans = 0.0\n",
    "while abs(ans**2 - x) >= epsilon and ans <= x:\n",
    "    ans += step        # += :ans = ans+ step; -= *=                         \n",
    "    numGuesses += 1\n",
    "print('numGuesses =', numGuesses)\n",
    "if abs(ans**2 - x) >= epsilon:\n",
    "    print('Failed on square root of', x)\n",
    "else:\n",
    "    print(ans, 'is close to square root of', x)"
   ]
  },
  {
   "cell_type": "markdown",
   "metadata": {},
   "source": [
    "Exhaustive enumeration is a search technique that works only if  the set of values being searched <b>includes the answer</b>"
   ]
  },
  {
   "cell_type": "code",
   "execution_count": null,
   "metadata": {
    "collapsed": false
   },
   "outputs": [],
   "source": [
    "x=0.25  #  0.5 [0,1]\n",
    "epsilon = 0.01\n",
    "step = epsilon**2  #  epsilon**3 \n",
    "numGuesses = 0  # 3513631\n",
    "ans = 0.0\n",
    "while abs(ans**2 - x) >= epsilon and ans*ans <= x:  # \n",
    "    ans += step        # += :ans = ans+ step; -= *=                         \n",
    "    numGuesses += 1\n",
    "print('numGuesses =', numGuesses)\n",
    "if abs(ans**2 - x) >= epsilon:\n",
    "    print('Failed on square root of', x)\n",
    "else:\n",
    "    print(ans, 'is close to square root of', x)"
   ]
  },
  {
   "cell_type": "markdown",
   "metadata": {},
   "source": [
    "The time has come to look for a different way to attack the problem. We need to choose a better algorithm rather than fine tune the current one."
   ]
  },
  {
   "cell_type": "markdown",
   "metadata": {},
   "source": [
    "### 2) Using bisection search to approximate square root\n",
    "\n",
    "Suppose we know that a good approximation to the square root of x lies somewhere between 0 and max. We can exploit the fact that numbers are totally ordered.\n",
    "\n",
    "Since we don’t necessarily know where to start searching, let’s start in the middle.\n",
    "\n",
    "0__________________________guess__________________________max\n"
   ]
  },
  {
   "cell_type": "code",
   "execution_count": null,
   "metadata": {
    "collapsed": false
   },
   "outputs": [],
   "source": [
    "# Page 28, Figure 3.4\n",
    "#x = 25\n",
    "x=123456789\n",
    "epsilon = 0.01\n",
    "numGuesses = 0\n",
    "low = 0.0\n",
    "high = max(1.0, x)        # the square root of x lies somewhere between 0 and max\n",
    "ans = (high + low) / 2.0  # let’s start in the middle.\n",
    "\n",
    "while abs(ans**2 - x) >= epsilon:\n",
    "#    print('low =', low, 'high =', high, 'ans =', ans)\n",
    " \n",
    "#    print('root interval=[ %12.9f'%low,', %12.9f'%high,']', 'ans =%12.9f'%(ans)) #old string formatting\n",
    "    \n",
    "    print('root interval=[ {0:.9f}, {0:.9f}], ans= {0:.9f}'.format(low,high,ans))\n",
    "   \n",
    "    numGuesses += 1\n",
    "    \n",
    "    # whether it is too big or too small\n",
    "    if ans**2 < x:    \n",
    "        low = ans    # If it is too small, we know that the answer must lie to the right\n",
    "                     # [0,max]->[ans,max]\n",
    "    else:\n",
    "        high = ans   # If it is too big, we know that the answer must lie to the left.\n",
    "                     # [0,max]-[0,ans]\n",
    "    ans = (high + low) / 2.0\n",
    "\n",
    "print('\\nnumGuesses =', numGuesses)\n",
    "print(ans, 'is close to square root of', x)"
   ]
  },
  {
   "cell_type": "markdown",
   "metadata": {},
   "source": [
    "Because it divides the search space in half at each step, it is called a <b>bisection search</b>"
   ]
  },
  {
   "cell_type": "markdown",
   "metadata": {
    "collapsed": true
   },
   "source": [
    "#### Python Tutorial : 7.1 Fancier Output Formatting\n",
    "\n",
    "https://docs.python.org/3.5/tutorial/inputoutput.html#fancier-output-formatting"
   ]
  },
  {
   "cell_type": "markdown",
   "metadata": {},
   "source": [
    "## 3.4 A Few Words About Using Floats"
   ]
  },
  {
   "cell_type": "code",
   "execution_count": null,
   "metadata": {
    "collapsed": false
   },
   "outputs": [],
   "source": [
    "x = 0.0\n",
    "for i in range(10):\n",
    "    x = x + 0.1    # because the value to which x is bound is not exactly 1.0\n",
    "if x == 1.0:\n",
    "    print(x, '= 1.0')\n",
    "else:\n",
    "    print(x, 'is not 1.0')"
   ]
  },
  {
   "cell_type": "markdown",
   "metadata": {},
   "source": [
    "<b>Why does it get to the else clause in the first place?</b>"
   ]
  },
  {
   "cell_type": "markdown",
   "metadata": {},
   "source": [
    "Modern computers use <b>binary</b>, not decimal, representations. We represent the significant digits and exponents in binary rather than decimal and raise 2 rather than 10 to the exponent."
   ]
  },
  {
   "cell_type": "code",
   "execution_count": null,
   "metadata": {
    "collapsed": true
   },
   "outputs": [],
   "source": [
    "0.625 (5/8) -> (101,-11"
   ]
  },
  {
   "cell_type": "code",
   "execution_count": null,
   "metadata": {
    "collapsed": true
   },
   "outputs": [],
   "source": [
    "1/10->0.1 ?\n",
    "(0011, -101)->3/32->0.09375\n",
    "(11001, -1000)->25/256->0.09765625"
   ]
  },
  {
   "cell_type": "markdown",
   "metadata": {},
   "source": [
    "How many significant digits would we need to get an exact floating point representation of 0.1?\n",
    "<b>An infinite number of digits!</b> There do not exist integers sig and exp such that sig * 2-exp equals 0.1. \n",
    "\n",
    "In base 2, 1/10 is the infinitely repeating fraction\n",
    "\n",
    "0.0001100110011001100110011001100110011001100110011..."
   ]
  },
  {
   "cell_type": "markdown",
   "metadata": {},
   "source": [
    "In most Python implementations, there are <b>53 bits of precision available</b> for floating point numbers,"
   ]
  },
  {
   "cell_type": "code",
   "execution_count": null,
   "metadata": {
    "collapsed": false
   },
   "outputs": [],
   "source": [
    "x = 0.0\n",
    "for i in range(10):\n",
    "    x = x + 0.1    # because the value to which x is bound is not exactly 1.0\n",
    "if x == 1.0:\n",
    "    print(x, '= 1.0')\n",
    "else:\n",
    "    print(x, 'is not 1.0')\n",
    "    print(x==10.0*0.1)\n",
    "\n",
    "print(x)   #  Python 2"
   ]
  },
  {
   "cell_type": "code",
   "execution_count": null,
   "metadata": {
    "collapsed": false
   },
   "outputs": [],
   "source": [
    "x=1/10\n",
    "print(x)  # automatic rounding"
   ]
  },
  {
   "cell_type": "markdown",
   "metadata": {
    "collapsed": true
   },
   "source": [
    "Just remember, even though the printed result looks like the exact value of 1/10, the actual stored value is the\n",
    "nearest representable binary fraction."
   ]
  },
  {
   "cell_type": "markdown",
   "metadata": {},
   "source": [
    "if you want to explicitly round a floating point number, use the round function. \n",
    "The expression <b>round(x, numDigits)</b> returns the floating point number equivalent to rounding the value of x to numDigits decimal digits\n",
    "following the decimal point."
   ]
  },
  {
   "cell_type": "code",
   "execution_count": null,
   "metadata": {
    "collapsed": false
   },
   "outputs": [],
   "source": [
    "round(2**0.5, 3)"
   ]
  },
  {
   "cell_type": "markdown",
   "metadata": {},
   "source": [
    "Does the difference between real and floating point numbers really matter?\n",
    "Most of the time, mercifully, it does not.\n",
    "\n",
    "However, \n",
    "<ol>\n",
    "<li><b>tests for equality</b>  write abs(x-y) < 0.0001 rather than x == y.\n",
    "<li><b>the accumulation of rounding errors<b> \n",
    "</ol>"
   ]
  },
  {
   "cell_type": "markdown",
   "metadata": {},
   "source": [
    "<b>Ref: Python Tutorial: Chapter 15 FLOATING POINT ARITHMETIC: ISSUES AND LIMITATIONS</b>\n",
    "<p>For use cases which require exact decimal representation, \n",
    "<p>try using the <b>decimal module</b> which implements decimal arithmetic suitable for<b> accounting applications and high-precision applications</b>.\n",
    "<p>Another form of exact arithmetic is supported by the <b>fractions module</b> which implements arithmetic based on\n",
    "rational numbers (so the numbers like 1/3 can be represented exactly)."
   ]
  },
  {
   "cell_type": "markdown",
   "metadata": {},
   "source": [
    "## 3.5 Newton-Raphson\n",
    "\n",
    "we shall look at it only in the context of finding the real roots of a polynomial with one variable.\n",
    "\n",
    "$p(x)=a*x^n +a0$\n",
    "\n",
    "Want to find r: p(r)=0\n",
    "    \n",
    "Newton proved a theorem that implies that if a value, call it guess, is an approximation to a root of a polynomial, then\n",
    "\n",
    "$guess – \\frac{p(guess)}{p’(guess)}$\n",
    "\n",
    "<p>where p’ is the first derivative of p, is a better approximation.  \n",
    "\n",
    "the square root of  any nonnegative number： polynomial :$x^2-k\n",
    "a=1,b=-k$,then,a better guess is\n",
    "\n",
    "$g-\\frac{(g^2-k)}{2g}$\n"
   ]
  },
  {
   "cell_type": "code",
   "execution_count": 1,
   "metadata": {
    "collapsed": false
   },
   "outputs": [
    {
     "name": "stdout",
     "output_type": "stream",
     "text": [
      "Square root of 24.0 is about 4.8989887432139305\n",
      "successive approximation= 4\n"
     ]
    }
   ],
   "source": [
    "# Newton-Raphson for square root\n",
    "#Find x such that x**2 - 24 is within epsilon of 0\n",
    "epsilon = 0.01   # 改变精度，测试死循环，给出改进的稳健 算法\n",
    "k = 24.0\n",
    "guess =k/2.0   # key: inti value ，比较不同初值下速度,如 0.01,在有根区间\n",
    "\n",
    "successiveapproximation=0  #  用2分法 对比下速度和精度\n",
    "while abs(guess*guess - k) >= epsilon:\n",
    "    guess = guess - (((guess**2) - k)/(2*guess))\n",
    "    successiveapproximation+=1\n",
    "print('Square root of', k, 'is about', guess)\n",
    "print('successive approximation=',successiveapproximation)\n"
   ]
  }
 ],
 "metadata": {
  "kernelspec": {
   "display_name": "Python 3",
   "language": "python",
   "name": "python3"
  },
  "language_info": {
   "codemirror_mode": {
    "name": "ipython",
    "version": 3
   },
   "file_extension": ".py",
   "mimetype": "text/x-python",
   "name": "python",
   "nbconvert_exporter": "python",
   "pygments_lexer": "ipython3",
   "version": "3.5.1"
  }
 },
 "nbformat": 4,
 "nbformat_minor": 0
}
